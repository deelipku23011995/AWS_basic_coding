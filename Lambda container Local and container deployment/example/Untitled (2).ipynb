{
 "cells": [
  {
   "cell_type": "code",
   "execution_count": 2,
   "id": "d4619d7c",
   "metadata": {},
   "outputs": [
    {
     "ename": "SyntaxError",
     "evalue": "invalid syntax (2119184319.py, line 1)",
     "output_type": "error",
     "traceback": [
      "\u001b[0;36m  Cell \u001b[0;32mIn[2], line 1\u001b[0;36m\u001b[0m\n\u001b[0;31m    curl \"http://localhost:9000/2015-03-31/functions/function/invocations\" -d '{\"payload\":\"hello world!\"}'\u001b[0m\n\u001b[0m         ^\u001b[0m\n\u001b[0;31mSyntaxError\u001b[0m\u001b[0;31m:\u001b[0m invalid syntax\n"
     ]
    }
   ],
   "source": [
    "curl \"http://localhost:9000/2015-03-31/functions/function/invocations\" -d '{\"payload\":\"hello world!\"}'"
   ]
  },
  {
   "cell_type": "code",
   "execution_count": 11,
   "id": "8033e0fa",
   "metadata": {},
   "outputs": [
    {
     "name": "stdout",
     "output_type": "stream",
     "text": [
      "CONTAINER ID   IMAGE               COMMAND                  CREATED          STATUS          PORTS                                       NAMES\r\n",
      "e85af9ebc5f7   docker-image:test   \"/lambda-entrypoint.…\"   36 seconds ago   Up 35 seconds   0.0.0.0:9000->8080/tcp, :::9000->8080/tcp   angry_elgamal\r\n"
     ]
    }
   ],
   "source": [
    "! docker ps"
   ]
  },
  {
   "cell_type": "code",
   "execution_count": 12,
   "id": "75fd17bb",
   "metadata": {},
   "outputs": [
    {
     "name": "stdout",
     "output_type": "stream",
     "text": [
      "e85af9ebc5f7\r\n"
     ]
    }
   ],
   "source": [
    "! docker kill  e85af9ebc5f7"
   ]
  },
  {
   "cell_type": "code",
   "execution_count": null,
   "id": "61910919",
   "metadata": {},
   "outputs": [],
   "source": []
  }
 ],
 "metadata": {
  "kernelspec": {
   "display_name": "conda_pytorch_p310",
   "language": "python",
   "name": "conda_pytorch_p310"
  },
  "language_info": {
   "codemirror_mode": {
    "name": "ipython",
    "version": 3
   },
   "file_extension": ".py",
   "mimetype": "text/x-python",
   "name": "python",
   "nbconvert_exporter": "python",
   "pygments_lexer": "ipython3",
   "version": "3.10.13"
  }
 },
 "nbformat": 4,
 "nbformat_minor": 5
}
