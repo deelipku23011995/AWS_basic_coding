{
 "cells": [
  {
   "cell_type": "code",
   "execution_count": 1,
   "id": "05c3e312",
   "metadata": {},
   "outputs": [
    {
     "name": "stdout",
     "output_type": "stream",
     "text": [
      "Sending build context to Docker daemon  13.82kB\n",
      "Step 1/5 : FROM public.ecr.aws/lambda/python:3.10\n",
      " ---> 6cd55483a8c3\n",
      "Step 2/5 : COPY requirements.txt ${LAMBDA_TASK_ROOT}\n",
      " ---> Using cache\n",
      " ---> 12a37fd8e219\n",
      "Step 3/5 : RUN pip install -r requirements.txt\n",
      " ---> Using cache\n",
      " ---> 0595b1748d72\n",
      "Step 4/5 : COPY lambda_function.py ${LAMBDA_TASK_ROOT}\n",
      " ---> 2e067ef5416d\n",
      "Step 5/5 : CMD [ \"lambda_function.handler\" ]\n",
      " ---> Running in 274ddf38770b\n",
      "Removing intermediate container 274ddf38770b\n",
      " ---> 6af62a78ae04\n",
      "Successfully built 6af62a78ae04\n",
      "Successfully tagged docker-image:test\n"
     ]
    }
   ],
   "source": [
    "! docker build --platform linux/amd64 -t docker-image:test ."
   ]
  },
  {
   "cell_type": "code",
   "execution_count": null,
   "id": "66ecf05e",
   "metadata": {},
   "outputs": [
    {
     "name": "stdout",
     "output_type": "stream",
     "text": [
      "05 Apr 2024 19:10:17,051 [INFO] (rapid) exec '/var/runtime/bootstrap' (cwd=/var/task, handler=)\n",
      "05 Apr 2024 19:10:24,109 [INFO] (rapid) INIT START(type: on-demand, phase: init)\n",
      "05 Apr 2024 19:10:24,109 [INFO] (rapid) The extension's directory \"/opt/extensions\" does not exist, assuming no extensions to be loaded.\n",
      "05 Apr 2024 19:10:24,109 [INFO] (rapid) Starting runtime without AWS_ACCESS_KEY_ID, AWS_SECRET_ACCESS_KEY, AWS_SESSION_TOKEN , Expected?: false\n",
      "START RequestId: ccb66887-788d-4ddc-af9c-d976c27f0fa5 Version: $LATEST\n",
      "05 Apr 2024 19:10:24,303 [INFO] (rapid) INIT RTDONE(status: success)\n",
      "05 Apr 2024 19:10:24,303 [INFO] (rapid) INIT REPORT(durationMs: 193.423000)\n",
      "05 Apr 2024 19:10:24,303 [INFO] (rapid) INVOKE START(requestId: 04ffd67a-a336-4cf1-ba4c-801ddbe5b59e)\n",
      "event:----- {'payload': 'hello world!'}\n",
      "END RequestId: 04ffd67a-a336-4cf1-ba4c-801ddbe5b59e\n",
      "REPORT RequestId: 04ffd67a-a336-4cf1-ba4c-801ddbe5b59e\tInit Duration: 0.05 ms\tDuration: 195.08 ms\tBilled Duration: 196 ms\tMemory Size: 3008 MB\tMax Memory Used: 3008 MB\t\n",
      "05 Apr 2024 19:10:24,304 [INFO] (rapid) INVOKE RTDONE(status: success, produced bytes: 0, duration: 1.110000ms)\n"
     ]
    }
   ],
   "source": [
    "! docker run --platform linux/amd64 -p 9000:8080 docker-image:test"
   ]
  },
  {
   "cell_type": "code",
   "execution_count": null,
   "id": "482107f1",
   "metadata": {},
   "outputs": [],
   "source": []
  }
 ],
 "metadata": {
  "kernelspec": {
   "display_name": "conda_pytorch_p310",
   "language": "python",
   "name": "conda_pytorch_p310"
  },
  "language_info": {
   "codemirror_mode": {
    "name": "ipython",
    "version": 3
   },
   "file_extension": ".py",
   "mimetype": "text/x-python",
   "name": "python",
   "nbconvert_exporter": "python",
   "pygments_lexer": "ipython3",
   "version": "3.10.13"
  }
 },
 "nbformat": 4,
 "nbformat_minor": 5
}
