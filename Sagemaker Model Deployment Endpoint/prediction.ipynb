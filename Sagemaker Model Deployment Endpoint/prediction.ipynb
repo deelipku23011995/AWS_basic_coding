{
 "cells": [
  {
   "cell_type": "code",
   "execution_count": 3,
   "id": "09130b67-eb73-4a3b-b42d-6289b6df4b5d",
   "metadata": {
    "tags": []
   },
   "outputs": [],
   "source": [
    "import tarfile\n",
    "local_saving_path = 'model.tar.gz'\n",
    "with tarfile.open(local_saving_path) as tar:\n",
    "        tar.extractall(path=\"bordex_output_gpu\")"
   ]
  },
  {
   "cell_type": "code",
   "execution_count": 33,
   "id": "2a3de9f2-2e77-4b97-8464-84cd57ec6d0f",
   "metadata": {
    "tags": []
   },
   "outputs": [
    {
     "name": "stdout",
     "output_type": "stream",
     "text": [
      "\u001b[0m\u001b[01;34mbordex_output_gpu\u001b[0m/  model.tar.gz         prediction.ipynb\n",
      "loss_model.tar.gz   \u001b[01;34mpred_temp_lm_image\u001b[0m/\n"
     ]
    }
   ],
   "source": [
    "ls"
   ]
  },
  {
   "cell_type": "code",
   "execution_count": 34,
   "id": "17ea23c6-dce8-43b4-99ed-2c97d3f7d237",
   "metadata": {
    "tags": []
   },
   "outputs": [],
   "source": [
    "import tarfile\n",
    "local_saving_path = 'loss_model.tar.gz'\n",
    "with tarfile.open(local_saving_path) as tar:\n",
    "        tar.extractall(path=\"loss_output_gpu\")"
   ]
  },
  {
   "cell_type": "code",
   "execution_count": 104,
   "id": "51dc8dbb-0443-457e-8246-630bc24f42e8",
   "metadata": {
    "tags": []
   },
   "outputs": [
    {
     "name": "stdout",
     "output_type": "stream",
     "text": [
      "Successfully configured pip to use AWS CodeArtifact repository https://xaas-artifacts-346256573792.d.codeartifact.eu-west-2.amazonaws.com/pypi/package-mirror/ \n",
      "Login expires in 12 hours at 2024-11-04 23:07:55+00:00\n"
     ]
    }
   ],
   "source": [
    "!aws codeartifact login --tool pip --repository package-mirror --domain xaas-artifacts --domain-owner 346256573792 --region eu-west-2"
   ]
  },
  {
   "cell_type": "code",
   "execution_count": 18,
   "id": "de2bb881-7dca-4793-b3f7-db13a6aa8623",
   "metadata": {
    "scrolled": true,
    "tags": []
   },
   "outputs": [],
   "source": [
    "# ! python -m pip install --upgrade pip\n",
    "# ! pip install torch==1.10.0 torchvision==0.11.1\n",
    "# ! pip install simpletransformers\n",
    "# ! pip install transformers==4.26.1\n",
    "# ! python -m pip install detectron2 -f https://dl.fbaipublicfiles.com/detectron2/wheels/cu102/torch1.10/index.html"
   ]
  },
  {
   "cell_type": "code",
   "execution_count": 19,
   "id": "0959fa67-9df4-43da-802d-220322c69f69",
   "metadata": {
    "tags": []
   },
   "outputs": [],
   "source": [
    "# !pip install PyPDF2\n",
    "# !pip install pdf2image"
   ]
  },
  {
   "cell_type": "code",
   "execution_count": 20,
   "id": "3faeb2f8-6f47-47a7-85aa-274aedfe8a96",
   "metadata": {
    "scrolled": true,
    "tags": []
   },
   "outputs": [],
   "source": [
    "# ! conda install -c conda-forge poppler -y\n"
   ]
  },
  {
   "cell_type": "code",
   "execution_count": 22,
   "id": "37344158-2e60-4d13-95d1-13814270aa33",
   "metadata": {
    "tags": []
   },
   "outputs": [],
   "source": [
    "# !pip install Pillow==9.0.0\n",
    "# !pip3 install opencv-python-headless==4.5.3.56"
   ]
  },
  {
   "cell_type": "code",
   "execution_count": 39,
   "id": "23286283-1b5f-4afe-897c-899dd714ea03",
   "metadata": {
    "tags": []
   },
   "outputs": [],
   "source": [
    "# from transformers import AutoTokenizer\n",
    "# import torch\n",
    "# from transformers import AutoModelForSequenceClassification\n",
    "# import pandas as pd\n",
    "# import os \n",
    "# import boto3\n",
    "# import pandas as pd\n",
    "# import json\n",
    "\n",
    "# imports\n",
    "import boto3\n",
    "import pandas as pd\n",
    "import json\n",
    "import io\n",
    "import os\n",
    "from PIL import Image\n",
    "from transformers import LayoutLMv2Processor, LayoutLMv2ForSequenceClassification\n",
    "import torch\n",
    "from pdf2image import convert_from_path\n",
    "\n",
    "import warnings\n",
    "warnings.filterwarnings('ignore')\n",
    "\n",
    "os.environ[\"TOKENIZERS_PARALLELISM\"] = \"false\""
   ]
  },
  {
   "cell_type": "code",
   "execution_count": 40,
   "id": "89487cf1-d6e3-4e35-aeb6-a3624f61efc0",
   "metadata": {
    "tags": []
   },
   "outputs": [],
   "source": [
    "def get_image(pdf_path, page_no, save_image = False, image_dir=None):\n",
    "    print('Converting to image')\n",
    "    images = convert_from_path(pdf_path)\n",
    "    image = images[page_no-1].resize((762,1000))\n",
    "    print('Image Conversion Completed!')\n",
    "\n",
    "    return image\n",
    "\n",
    "def normalize_box(box, width, height):\n",
    "    return [\n",
    "        int(1000 * (box[0] / width)),\n",
    "        int(1000 * (box[1] / height)),\n",
    "        int(1000 * (box[2] / width)),\n",
    "        int(1000 * (box[3] / height)),\n",
    "    ]\n",
    "\n",
    "def ocr_func(image_path):\n",
    "#     print(f'Image path: {image_path}')\n",
    "    client =  boto3.client('textract')\n",
    "    image = Image.open(image_path)\n",
    "#     print(image.size)\n",
    "    width, height = image.size\n",
    "\n",
    "#     print(\"image.format: \",image.format)\n",
    "\n",
    "    imgByteArr = io.BytesIO()\n",
    "    image.save(imgByteArr, format=image.format)\n",
    "    imgByteArr = imgByteArr.getvalue()\n",
    "\n",
    "    responses = client.detect_document_text(Document = {\"Bytes\":imgByteArr})\n",
    "\n",
    "    left_cor = []\n",
    "    top_cor = []\n",
    "    width_cor = []\n",
    "    height_cor = []\n",
    "    page = []\n",
    "\n",
    "    line_text = []\n",
    "\n",
    "    blocks=responses[\"Blocks\"]\n",
    "    for block in blocks:\n",
    "        if (block[\"BlockType\"] == \"WORD\"):\n",
    "            left_cor.append(float(\"{:.0f}\".format(block[\"Geometry\"][\"BoundingBox\"][\"Left\"]*width)))\n",
    "            top_cor.append(float(\"{:.0f}\".format(block[\"Geometry\"][\"BoundingBox\"][\"Top\"]*height)))\n",
    "            width_cor.append(float(\"{:.0f}\".format(block[\"Geometry\"][\"BoundingBox\"][\"Width\"]*width)))\n",
    "            height_cor.append(float(\"{:.0f}\".format(block[\"Geometry\"][\"BoundingBox\"][\"Height\"]*height)))\n",
    "            line_text.append((block[\"Text\"]))\n",
    "    ocr_df = pd.DataFrame(list(zip(left_cor,top_cor,width_cor,height_cor,line_text)),columns = [\"left\",\"top\",\"width\",\"height\",\"text\"])    \n",
    "#     print(ocr_df.shape)\n",
    "#     print('ocr completed.')\n",
    "    ocr_df['right']=ocr_df['left']+ocr_df['width']\n",
    "    ocr_df['bottom']=ocr_df['top']+ocr_df['height']\n",
    "    \n",
    "    normalized_bboxes=[]\n",
    "    for row in ocr_df.iterrows():\n",
    "        row=row[1]\n",
    "        normalized_bboxes.append(normalize_box([row['left'], row['top'], row['right'], row['bottom']], width, height))\n",
    "    ocr_df['norm_bbox']=normalized_bboxes\n",
    "    return ocr_df\n",
    "\n",
    "def model_inferencing(image_path,processor,words,boxes,model,id2label):\n",
    "    image = Image.open(image_path)\n",
    "    image = image.convert(\"RGB\")\n",
    "\n",
    "\n",
    "    encoding = processor(image,words,boxes=boxes, return_tensors=\"pt\", max_length=512,\n",
    "                             padding=\"max_length\", truncation=True)\n",
    "    \n",
    "#     print(\"\\nEncoding Keys :----\",encoding.keys())\n",
    "    \n",
    "    device = torch.device('cuda' if torch.cuda.is_available() else 'cpu')\n",
    "    \n",
    "    for k,v in encoding.items():\n",
    "        encoding[k] = v.to(device)\n",
    "    \n",
    "    outputs = model(**encoding)\n",
    "    label = id2label[outputs.logits.argmax(-1).item()]\n",
    "    return label"
   ]
  },
  {
   "cell_type": "code",
   "execution_count": 6,
   "id": "79e4a539-667f-4cc7-8271-13ec51a4c55d",
   "metadata": {
    "tags": []
   },
   "outputs": [],
   "source": [
    "PATH_MODEL = '/root/Balram/Layout_page_classification/prediction/bordex_output_gpu/model_page_classification_best.pt'"
   ]
  },
  {
   "cell_type": "code",
   "execution_count": null,
   "id": "82bb25ca-5c89-4c08-9051-70f75b781535",
   "metadata": {},
   "outputs": [],
   "source": []
  },
  {
   "cell_type": "code",
   "execution_count": 7,
   "id": "f5a155c5-ed5a-43dd-888b-d12c1517f104",
   "metadata": {
    "tags": []
   },
   "outputs": [
    {
     "name": "stdout",
     "output_type": "stream",
     "text": [
      "{'others': 0, 'bordereau': 1}\n"
     ]
    }
   ],
   "source": [
    "labels = ['others', 'bordereau']\n",
    "id2label = {v: k for v, k in enumerate(labels)}\n",
    "label2id = {k: v for v, k in enumerate(labels)}\n",
    "print(label2id)"
   ]
  },
  {
   "cell_type": "code",
   "execution_count": 12,
   "id": "4e42cc57-6993-46c8-8bbd-5ebbb697ae18",
   "metadata": {
    "scrolled": true,
    "tags": []
   },
   "outputs": [
    {
     "name": "stderr",
     "output_type": "stream",
     "text": [
      "Some weights of the model checkpoint at microsoft/layoutlmv2-base-uncased were not used when initializing LayoutLMv2ForSequenceClassification: ['layoutlmv2.visual.backbone.bottom_up.res4.10.conv2.norm.num_batches_tracked', 'layoutlmv2.visual.backbone.bottom_up.res5.2.conv2.norm.num_batches_tracked', 'layoutlmv2.visual.backbone.bottom_up.res2.0.conv2.norm.num_batches_tracked', 'layoutlmv2.visual.backbone.bottom_up.res4.22.conv1.norm.num_batches_tracked', 'layoutlmv2.visual.backbone.bottom_up.res4.14.conv2.norm.num_batches_tracked', 'layoutlmv2.visual.backbone.bottom_up.res3.0.conv1.norm.num_batches_tracked', 'layoutlmv2.visual.backbone.bottom_up.res3.3.conv2.norm.num_batches_tracked', 'layoutlmv2.visual.backbone.bottom_up.res4.2.conv1.norm.num_batches_tracked', 'layoutlmv2.visual.backbone.bottom_up.res2.0.shortcut.norm.num_batches_tracked', 'layoutlmv2.visual.backbone.bottom_up.res3.0.shortcut.norm.num_batches_tracked', 'layoutlmv2.visual.backbone.bottom_up.res4.20.conv1.norm.num_batches_tracked', 'layoutlmv2.visual.backbone.bottom_up.res4.19.conv3.norm.num_batches_tracked', 'layoutlmv2.visual.backbone.bottom_up.res5.1.conv3.norm.num_batches_tracked', 'layoutlmv2.visual.backbone.bottom_up.res2.1.conv2.norm.num_batches_tracked', 'layoutlmv2.visual.backbone.bottom_up.res5.0.conv3.norm.num_batches_tracked', 'layoutlmv2.visual.backbone.bottom_up.res3.2.conv2.norm.num_batches_tracked', 'layoutlmv2.visual.backbone.bottom_up.res4.0.conv3.norm.num_batches_tracked', 'layoutlmv2.visual.backbone.bottom_up.res2.1.conv1.norm.num_batches_tracked', 'layoutlmv2.visual.backbone.bottom_up.res4.7.conv2.norm.num_batches_tracked', 'layoutlmv2.visual.backbone.bottom_up.res5.0.conv2.norm.num_batches_tracked', 'layoutlmv2.visual.backbone.bottom_up.res3.3.conv1.norm.num_batches_tracked', 'layoutlmv2.visual.backbone.bottom_up.res2.1.conv3.norm.num_batches_tracked', 'layoutlmv2.visual.backbone.bottom_up.res4.8.conv2.norm.num_batches_tracked', 'layoutlmv2.visual.backbone.bottom_up.res4.16.conv2.norm.num_batches_tracked', 'layoutlmv2.visual.backbone.bottom_up.res4.11.conv3.norm.num_batches_tracked', 'layoutlmv2.visual.backbone.bottom_up.res4.19.conv1.norm.num_batches_tracked', 'layoutlmv2.visual.backbone.bottom_up.res4.6.conv2.norm.num_batches_tracked', 'layoutlmv2.visual.backbone.bottom_up.res4.0.conv2.norm.num_batches_tracked', 'layoutlmv2.visual.backbone.bottom_up.res4.11.conv2.norm.num_batches_tracked', 'layoutlmv2.visual.backbone.bottom_up.res4.12.conv3.norm.num_batches_tracked', 'layoutlmv2.visual.backbone.bottom_up.res4.1.conv1.norm.num_batches_tracked', 'layoutlmv2.visual.backbone.bottom_up.res3.3.conv3.norm.num_batches_tracked', 'layoutlmv2.visual.backbone.bottom_up.res3.0.conv2.norm.num_batches_tracked', 'layoutlmv2.visual.backbone.bottom_up.res5.0.shortcut.norm.num_batches_tracked', 'layoutlmv2.visual.backbone.bottom_up.res4.7.conv3.norm.num_batches_tracked', 'layoutlmv2.visual.backbone.bottom_up.res2.2.conv2.norm.num_batches_tracked', 'layoutlmv2.visual.backbone.bottom_up.res4.5.conv1.norm.num_batches_tracked', 'layoutlmv2.visual.backbone.bottom_up.res4.8.conv3.norm.num_batches_tracked', 'layoutlmv2.visual.backbone.bottom_up.res4.6.conv1.norm.num_batches_tracked', 'layoutlmv2.visual.backbone.bottom_up.res4.1.conv2.norm.num_batches_tracked', 'layoutlmv2.visual.backbone.bottom_up.res4.9.conv3.norm.num_batches_tracked', 'layoutlmv2.visual.backbone.bottom_up.res4.18.conv1.norm.num_batches_tracked', 'layoutlmv2.visual.backbone.bottom_up.res3.1.conv2.norm.num_batches_tracked', 'layoutlmv2.visual.backbone.bottom_up.res4.6.conv3.norm.num_batches_tracked', 'layoutlmv2.visual.backbone.bottom_up.res4.16.conv1.norm.num_batches_tracked', 'layoutlmv2.visual.backbone.bottom_up.res4.4.conv3.norm.num_batches_tracked', 'layoutlmv2.visual.backbone.bottom_up.res4.19.conv2.norm.num_batches_tracked', 'layoutlmv2.visual.backbone.bottom_up.res4.14.conv1.norm.num_batches_tracked', 'layoutlmv2.visual.backbone.bottom_up.res5.2.conv1.norm.num_batches_tracked', 'layoutlmv2.visual.backbone.bottom_up.res2.2.conv1.norm.num_batches_tracked', 'layoutlmv2.visual.backbone.bottom_up.res4.22.conv2.norm.num_batches_tracked', 'layoutlmv2.visual.backbone.bottom_up.res4.10.conv1.norm.num_batches_tracked', 'layoutlmv2.visual.backbone.bottom_up.res4.1.conv3.norm.num_batches_tracked', 'layoutlmv2.visual.backbone.bottom_up.res4.16.conv3.norm.num_batches_tracked', 'layoutlmv2.visual.backbone.bottom_up.res4.13.conv2.norm.num_batches_tracked', 'layoutlmv2.visual.backbone.bottom_up.res5.1.conv2.norm.num_batches_tracked', 'layoutlmv2.visual.backbone.bottom_up.res4.17.conv1.norm.num_batches_tracked', 'layoutlmv2.visual.backbone.bottom_up.res3.1.conv3.norm.num_batches_tracked', 'layoutlmv2.visual.backbone.bottom_up.res4.3.conv1.norm.num_batches_tracked', 'layoutlmv2.visual.backbone.bottom_up.res4.4.conv1.norm.num_batches_tracked', 'layoutlmv2.visual.backbone.bottom_up.res4.20.conv2.norm.num_batches_tracked', 'layoutlmv2.visual.backbone.bottom_up.res4.5.conv2.norm.num_batches_tracked', 'layoutlmv2.visual.backbone.bottom_up.res3.1.conv1.norm.num_batches_tracked', 'layoutlmv2.visual.backbone.bottom_up.res2.0.conv1.norm.num_batches_tracked', 'layoutlmv2.visual.backbone.bottom_up.res4.5.conv3.norm.num_batches_tracked', 'layoutlmv2.visual.backbone.bottom_up.res4.21.conv2.norm.num_batches_tracked', 'layoutlmv2.visual.backbone.bottom_up.res4.10.conv3.norm.num_batches_tracked', 'layoutlmv2.visual.backbone.bottom_up.res4.17.conv2.norm.num_batches_tracked', 'layoutlmv2.visual.backbone.bottom_up.res4.13.conv1.norm.num_batches_tracked', 'layoutlmv2.visual.backbone.bottom_up.res4.22.conv3.norm.num_batches_tracked', 'layoutlmv2.visual.backbone.bottom_up.res4.3.conv3.norm.num_batches_tracked', 'layoutlmv2.visual.backbone.bottom_up.res3.2.conv3.norm.num_batches_tracked', 'layoutlmv2.visual.backbone.bottom_up.res4.15.conv3.norm.num_batches_tracked', 'layoutlmv2.visual.backbone.bottom_up.res4.12.conv2.norm.num_batches_tracked', 'layoutlmv2.visual.backbone.bottom_up.res4.2.conv2.norm.num_batches_tracked', 'layoutlmv2.visual.backbone.bottom_up.res4.2.conv3.norm.num_batches_tracked', 'layoutlmv2.visual.backbone.bottom_up.res4.8.conv1.norm.num_batches_tracked', 'layoutlmv2.visual.backbone.bottom_up.res3.0.conv3.norm.num_batches_tracked', 'layoutlmv2.visual.backbone.bottom_up.res4.0.conv1.norm.num_batches_tracked', 'layoutlmv2.visual.backbone.bottom_up.res2.0.conv3.norm.num_batches_tracked', 'layoutlmv2.visual.backbone.bottom_up.res4.15.conv1.norm.num_batches_tracked', 'layoutlmv2.visual.backbone.bottom_up.res3.2.conv1.norm.num_batches_tracked', 'layoutlmv2.visual.backbone.bottom_up.res4.4.conv2.norm.num_batches_tracked', 'layoutlmv2.visual.backbone.bottom_up.res4.18.conv2.norm.num_batches_tracked', 'layoutlmv2.visual.backbone.bottom_up.res2.2.conv3.norm.num_batches_tracked', 'layoutlmv2.visual.backbone.bottom_up.res5.2.conv3.norm.num_batches_tracked', 'layoutlmv2.visual.backbone.bottom_up.res4.14.conv3.norm.num_batches_tracked', 'layoutlmv2.visual.backbone.bottom_up.res4.21.conv3.norm.num_batches_tracked', 'layoutlmv2.visual.backbone.bottom_up.stem.conv1.norm.num_batches_tracked', 'layoutlmv2.visual.backbone.bottom_up.res5.1.conv1.norm.num_batches_tracked', 'layoutlmv2.visual.backbone.bottom_up.res4.9.conv2.norm.num_batches_tracked', 'layoutlmv2.visual.backbone.bottom_up.res4.11.conv1.norm.num_batches_tracked', 'layoutlmv2.visual.backbone.bottom_up.res4.12.conv1.norm.num_batches_tracked', 'layoutlmv2.visual.backbone.bottom_up.res4.7.conv1.norm.num_batches_tracked', 'layoutlmv2.visual.backbone.bottom_up.res5.0.conv1.norm.num_batches_tracked', 'layoutlmv2.visual.backbone.bottom_up.res4.21.conv1.norm.num_batches_tracked', 'layoutlmv2.visual.backbone.bottom_up.res4.17.conv3.norm.num_batches_tracked', 'layoutlmv2.visual.backbone.bottom_up.res4.0.shortcut.norm.num_batches_tracked', 'layoutlmv2.visual.backbone.bottom_up.res4.20.conv3.norm.num_batches_tracked', 'layoutlmv2.visual.backbone.bottom_up.res4.3.conv2.norm.num_batches_tracked', 'layoutlmv2.visual.backbone.bottom_up.res4.18.conv3.norm.num_batches_tracked', 'layoutlmv2.visual.backbone.bottom_up.res4.15.conv2.norm.num_batches_tracked', 'layoutlmv2.visual.backbone.bottom_up.res4.13.conv3.norm.num_batches_tracked', 'layoutlmv2.visual.backbone.bottom_up.res4.9.conv1.norm.num_batches_tracked']\n",
      "- This IS expected if you are initializing LayoutLMv2ForSequenceClassification from the checkpoint of a model trained on another task or with another architecture (e.g. initializing a BertForSequenceClassification model from a BertForPreTraining model).\n",
      "- This IS NOT expected if you are initializing LayoutLMv2ForSequenceClassification from the checkpoint of a model that you expect to be exactly identical (initializing a BertForSequenceClassification model from a BertForSequenceClassification model).\n",
      "Some weights of LayoutLMv2ForSequenceClassification were not initialized from the model checkpoint at microsoft/layoutlmv2-base-uncased and are newly initialized: ['classifier.weight', 'classifier.bias']\n",
      "You should probably TRAIN this model on a down-stream task to be able to use it for predictions and inference.\n"
     ]
    },
    {
     "name": "stdout",
     "output_type": "stream",
     "text": [
      "device = cpu\n"
     ]
    }
   ],
   "source": [
    "b_model = LayoutLMv2ForSequenceClassification.from_pretrained('microsoft/layoutlmv2-base-uncased',\n",
    "                                                          num_labels=len(labels))\n",
    "processor = LayoutLMv2Processor.from_pretrained(\"microsoft/layoutlmv2-base-uncased\", revision=\"no_ocr\")\n",
    "model.load_state_dict(torch.load(PATH_MODEL,map_location=torch.device('cpu')))\n",
    "device = torch.device('cuda' if torch.cuda.is_available() else 'cpu')\n",
    "print(\"device =\",device)\n",
    "_ = model.to(device)"
   ]
  },
  {
   "cell_type": "code",
   "execution_count": null,
   "id": "dea04dfa-e5c9-4435-bcf8-378ebddbf613",
   "metadata": {},
   "outputs": [],
   "source": []
  },
  {
   "cell_type": "code",
   "execution_count": null,
   "id": "56a81775-55ad-4e4d-a80c-71408e978821",
   "metadata": {},
   "outputs": [],
   "source": [
    "Balram/Layout_page_classification/prediction/loss_output_gpu/model_page_classification_best.pt"
   ]
  },
  {
   "cell_type": "code",
   "execution_count": 7,
   "id": "4be7c486-62e0-4c32-8bab-795da61d47b8",
   "metadata": {
    "tags": []
   },
   "outputs": [
    {
     "data": {
      "text/plain": [
       "538"
      ]
     },
     "execution_count": 7,
     "metadata": {},
     "output_type": "execute_result"
    }
   ],
   "source": [
    "b_images = os.listdir('/root/Balram/Layout_page_classification/script/training_data/images/bordereau/')\n",
    "len(b_images)"
   ]
  },
  {
   "cell_type": "code",
   "execution_count": 21,
   "id": "f61f338a-acd8-4397-a00f-674dc559f69b",
   "metadata": {
    "tags": []
   },
   "outputs": [
    {
     "data": {
      "text/plain": [
       "551"
      ]
     },
     "execution_count": 21,
     "metadata": {},
     "output_type": "execute_result"
    }
   ],
   "source": [
    "a_images = os.listdir('/root/Balram/Layout_page_classification/script/training_data/images/advice/')\n",
    "len(a_images)"
   ]
  },
  {
   "cell_type": "code",
   "execution_count": 23,
   "id": "5bb6dfb5-41dc-4e60-926c-8d50ac875374",
   "metadata": {
    "tags": []
   },
   "outputs": [
    {
     "data": {
      "text/plain": [
       "'others'"
      ]
     },
     "execution_count": 23,
     "metadata": {},
     "output_type": "execute_result"
    }
   ],
   "source": [
    "image_path = '/root/Balram/Layout_page_classification/script/training_data/images/advice/'+a_images[1]\n",
    "#image_path = '/root/Balram/Layout_page_classification/script/training_data/images/bordereau/898_PB_28-02-2023_11_57_00__1.jpg'\n",
    "ocr_df = ocr_func(image_path)\n",
    "words = ocr_df.text.tolist()\n",
    "boxes = ocr_df.norm_bbox.tolist()\n",
    "left =  ocr_df.left.tolist()\n",
    "top =  ocr_df.top.tolist()\n",
    "right = ocr_df.right.tolist()\n",
    "bottom = ocr_df.bottom.tolist()\n",
    "\n",
    "label = model_inferencing(image_path,processor,words,boxes,model, id2label)\n",
    "label"
   ]
  },
  {
   "cell_type": "markdown",
   "id": "59c8b27b-4931-483c-8719-c37a06decfb3",
   "metadata": {},
   "source": [
    "## PDF Prediction"
   ]
  },
  {
   "cell_type": "code",
   "execution_count": 8,
   "id": "0761f19f-e19c-4eac-9194-44fd2d8ea07c",
   "metadata": {
    "tags": []
   },
   "outputs": [],
   "source": [
    "import re"
   ]
  },
  {
   "cell_type": "code",
   "execution_count": 9,
   "id": "a38e86ff-a0ec-48a7-aae4-00fe361d6218",
   "metadata": {
    "tags": []
   },
   "outputs": [],
   "source": [
    "import boto3\n",
    "import json \n",
    "import re\n",
    "def normalize_box(box, width, height):\n",
    "    return [\n",
    "        int(1000 * (box[0] / width)),\n",
    "        int(1000 * (box[1] / height)),\n",
    "        int(1000 * (box[2] / width)),\n",
    "        int(1000 * (box[3] / height)),\n",
    "    ]\n",
    "\n",
    "\n",
    "def ocr_func_from_json(bucket, document):\n",
    "    #Get the document from S3\n",
    "    \"\"\"Extract text from json and return text dict, response, line df, word df.\n",
    "    modified_date: 7/20/2022,\n",
    "    modified by: Anshuman\"\"\"\n",
    "    \n",
    "    s3_connection = boto3.resource(\"s3\")\n",
    "    \n",
    "    client = boto3.client('s3')\n",
    "    \n",
    "    result = client.get_object(Bucket=bucket, Key=document)\n",
    "    text = result['Body'].read().decode('utf-8')\n",
    "    res = json.loads(text)\n",
    "    \n",
    "    width, height = 762,1000\n",
    "    \n",
    "    #****** WORD ************\n",
    "    left_cor = []\n",
    "    top_cor = []\n",
    "    width_cor = []\n",
    "    height_cor = []\n",
    "    page = []\n",
    "    \n",
    "    word_text = []\n",
    "    for response in res:\n",
    "        blocks=response[\"Blocks\"]\n",
    "        for block in blocks:\n",
    "            if (block[\"BlockType\"] == \"WORD\"):\n",
    "                left_cor.append(float(\"{:.0f}\".format(block[\"Geometry\"][\"BoundingBox\"][\"Left\"]*width)))\n",
    "                top_cor.append(float(\"{:.0f}\".format(block[\"Geometry\"][\"BoundingBox\"][\"Top\"]*height)))\n",
    "                width_cor.append(float(\"{:.0f}\".format(block[\"Geometry\"][\"BoundingBox\"][\"Width\"]*width)))\n",
    "                height_cor.append(float(\"{:.0f}\".format(block[\"Geometry\"][\"BoundingBox\"][\"Height\"]*height)))\n",
    "                word_text.append((block[\"Text\"]))\n",
    "                page.append(block[\"Page\"])\n",
    "    \n",
    "    df_word = pd.DataFrame(list(zip(left_cor,top_cor,width_cor,height_cor,word_text,page)),columns = [\"left\",\"top\",\"width\",\"height\",\"text\",\"page\"])    \n",
    "    df_word[\"right\"] = (df_word[\"left\"] + df_word[\"width\"])\n",
    "    df_word[\"bottom\"] = (df_word[\"top\"] + df_word[\"height\"])\n",
    "    \n",
    "    normalized_bboxes=[]\n",
    "    for row in df_word.iterrows():\n",
    "        row=row[1]\n",
    "        normalized_bboxes.append(normalize_box([row['left'], row['top'], row['right'], row['bottom']], width, height))\n",
    "    df_word['norm_bbox']=normalized_bboxes\n",
    "    \n",
    "    return df_word"
   ]
  },
  {
   "cell_type": "code",
   "execution_count": null,
   "id": "3dd015da-611b-4513-8c71-5a1a9d915e51",
   "metadata": {},
   "outputs": [],
   "source": []
  },
  {
   "cell_type": "code",
   "execution_count": 25,
   "id": "f2daf508-1fa2-41c2-8659-66c1a40b9a5e",
   "metadata": {
    "tags": []
   },
   "outputs": [
    {
     "name": "stdout",
     "output_type": "stream",
     "text": [
      "{'others': 0, 'bordereau': 1}\n"
     ]
    }
   ],
   "source": [
    "labels = ['others', 'bordereau']\n",
    "id2label = {v: k for v, k in enumerate(labels)}\n",
    "label2id = {k: v for v, k in enumerate(labels)}\n",
    "print(label2id)"
   ]
  },
  {
   "cell_type": "code",
   "execution_count": 33,
   "id": "024ab9f5-919e-4c3b-8e03-0dfc8f3673be",
   "metadata": {
    "tags": []
   },
   "outputs": [
    {
     "name": "stdout",
     "output_type": "stream",
     "text": [
      "/root/Balram/Layout_page_classification/data_preparation/data/training_data/calculation/2022_Sanctions_confirmation_02-03-2023_09_43_00.pdf\n",
      "Layout_page_classification/calculation/2022_Sanctions_confirmation_02-03-2023_09_43_00.json\n",
      "total_pages =  [1]\n",
      "Page_1 = others\n"
     ]
    }
   ],
   "source": [
    "pdf_path = '/root/Balram/Layout_page_classification/data_preparation/data/training_data/calculation/2022_Sanctions_confirmation_02-03-2023_09_43_00.pdf'\n",
    "\n",
    "json_name = re.sub(\".pdf|.PDF|.Pdf\", \".json\", pdf_path.split('/')[-1])\n",
    "json_path = 'Layout_page_classification/calculation/'+json_name\n",
    "#json_path = 'Layout_page_classification/acknowledgement/B0180ME2005449_2022-10-10_ME2005449__QS__-_endt_006__agreed__08-12-2021_08_46_00.json'\n",
    "\n",
    "print(pdf_path)\n",
    "print(json_path)\n",
    "df_word = ocr_func_from_json('sagemaker-p-c7qmmnapl7uc', json_path)\n",
    "total_pages = list(set(df_word['page'].tolist()))\n",
    "total_pages = total_pages if len(total_pages) <=5 else total_pages[:5]\n",
    "print(\"total_pages = \",total_pages)\n",
    "for page_no in total_pages:\n",
    "    df_word_temp = df_word[df_word['page']==page_no]\n",
    "    \n",
    "    words = df_word_temp.text.tolist()\n",
    "    boxes = df_word_temp.norm_bbox.tolist()\n",
    "    page = convert_from_path(pdf_path, 500,size=(762,1000),first_page = page_no,last_page = page_no)\n",
    "    my_temp_image_path = 'pred_temp_lm_image/temp_'+str(page_no)+'.jpg'\n",
    "    page[0].save(my_temp_image_path, 'JPEG')\n",
    "    \n",
    "    label = model_inferencing(my_temp_image_path,processor,words,boxes,model, id2label)\n",
    "    print(f\"Page_{page_no} = {label}\")\n"
   ]
  },
  {
   "cell_type": "code",
   "execution_count": null,
   "id": "af43420c-64ee-44b2-962c-76fa64081f4c",
   "metadata": {},
   "outputs": [],
   "source": []
  },
  {
   "cell_type": "code",
   "execution_count": null,
   "id": "d9e9b8b2-9d4e-46d3-a595-2fc1c000ab4f",
   "metadata": {},
   "outputs": [],
   "source": [
    "ocr_df = ocr_func(image_path)\n",
    "words = ocr_df.text.tolist()\n",
    "boxes = ocr_df.norm_bbox.tolist()\n",
    "\n",
    "\n",
    "label = model_inferencing(image_path,processor,words,boxes,model, id2label)\n",
    "label"
   ]
  },
  {
   "cell_type": "markdown",
   "id": "c742dacf-4f21-4c5f-b47a-de2ac30f4ef8",
   "metadata": {},
   "source": [
    "## Run on Local PDF"
   ]
  },
  {
   "cell_type": "code",
   "execution_count": 2,
   "id": "8d8d64f4-b848-424f-b209-d21bcba92186",
   "metadata": {
    "tags": []
   },
   "outputs": [],
   "source": [
    "def normalize_box(box, width, height):\n",
    "    return [\n",
    "        int(1000 * (box[0] / width)),\n",
    "        int(1000 * (box[1] / height)),\n",
    "        int(1000 * (box[2] / width)),\n",
    "        int(1000 * (box[3] / height)),\n",
    "    ]\n",
    "\n",
    "def ocr_func(image_path):\n",
    "#     print(f'Image path: {image_path}')\n",
    "    client =  boto3.client('textract')\n",
    "    image = Image.open(image_path)\n",
    "#     print(image.size)\n",
    "    width, height = image.size\n",
    "\n",
    "#     print(\"image.format: \",image.format)\n",
    "\n",
    "    imgByteArr = io.BytesIO()\n",
    "    image.save(imgByteArr, format=image.format)\n",
    "    imgByteArr = imgByteArr.getvalue()\n",
    "\n",
    "    responses = client.detect_document_text(Document = {\"Bytes\":imgByteArr})\n",
    "\n",
    "    left_cor = []\n",
    "    top_cor = []\n",
    "    width_cor = []\n",
    "    height_cor = []\n",
    "    page = []\n",
    "\n",
    "    line_text = []\n",
    "\n",
    "    blocks=responses[\"Blocks\"]\n",
    "    for block in blocks:\n",
    "        if (block[\"BlockType\"] == \"WORD\"):\n",
    "            left_cor.append(float(\"{:.0f}\".format(block[\"Geometry\"][\"BoundingBox\"][\"Left\"]*width)))\n",
    "            top_cor.append(float(\"{:.0f}\".format(block[\"Geometry\"][\"BoundingBox\"][\"Top\"]*height)))\n",
    "            width_cor.append(float(\"{:.0f}\".format(block[\"Geometry\"][\"BoundingBox\"][\"Width\"]*width)))\n",
    "            height_cor.append(float(\"{:.0f}\".format(block[\"Geometry\"][\"BoundingBox\"][\"Height\"]*height)))\n",
    "            line_text.append((block[\"Text\"]))\n",
    "    ocr_df = pd.DataFrame(list(zip(left_cor,top_cor,width_cor,height_cor,line_text)),columns = [\"left\",\"top\",\"width\",\"height\",\"text\"])    \n",
    "#     print(ocr_df.shape)\n",
    "#     print('ocr completed.')\n",
    "    ocr_df['right']=ocr_df['left']+ocr_df['width']\n",
    "    ocr_df['bottom']=ocr_df['top']+ocr_df['height']\n",
    "    \n",
    "    normalized_bboxes=[]\n",
    "    for row in ocr_df.iterrows():\n",
    "        row=row[1]\n",
    "        normalized_bboxes.append(normalize_box([row['left'], row['top'], row['right'], row['bottom']], width, height))\n",
    "    ocr_df['norm_bbox']=normalized_bboxes\n",
    "    return ocr_df\n",
    "\n",
    "\n",
    "def model_inferencing(image_path,processor,words,boxes,model,id2label):\n",
    "    image = Image.open(image_path)\n",
    "    image = image.convert(\"RGB\")\n",
    "\n",
    "\n",
    "    encoding = processor(image,words,boxes=boxes, return_tensors=\"pt\", max_length=512,\n",
    "                             padding=\"max_length\", truncation=True)\n",
    "    \n",
    "#     print(\"\\nEncoding Keys :----\",encoding.keys())\n",
    "    \n",
    "    device = torch.device('cuda' if torch.cuda.is_available() else 'cpu')\n",
    "    \n",
    "    for k,v in encoding.items():\n",
    "        encoding[k] = v.to(device)\n",
    "    \n",
    "    outputs = model(**encoding)\n",
    "    label = id2label[outputs.logits.argmax(-1).item()]\n",
    "    return label"
   ]
  },
  {
   "cell_type": "code",
   "execution_count": 3,
   "id": "4423eb20-b9f6-4547-829c-9d835d881d39",
   "metadata": {
    "tags": []
   },
   "outputs": [],
   "source": [
    "import PyPDF2\n",
    "from pdf2image import convert_from_path\n",
    "import boto3\n",
    "from PIL import Image\n",
    "import io\n",
    "import pandas as pd\n",
    "import os\n",
    "\n",
    "\n",
    "\n",
    "from transformers import LayoutLMv2Processor, LayoutLMv2ForSequenceClassification\n",
    "import torch\n",
    "\n",
    "import warnings\n",
    "warnings.filterwarnings('ignore')\n",
    "\n",
    "os.environ[\"TOKENIZERS_PARALLELISM\"] = \"false\""
   ]
  },
  {
   "cell_type": "code",
   "execution_count": 4,
   "id": "3d662201-7e62-4dd4-9e6c-b16cb88d2c98",
   "metadata": {
    "scrolled": true,
    "tags": []
   },
   "outputs": [],
   "source": [
    "# b_PATH_MODEL = '/root/Balram/Layout_page_classification/prediction/bordex_output_gpu/model_page_classification_best.pt'\n",
    "\n",
    "# b_labels = ['others', 'bordereau']\n",
    "\n",
    "# b_model = LayoutLMv2ForSequenceClassification.from_pretrained('microsoft/layoutlmv2-base-uncased',\n",
    "#                                                           num_labels=len(b_labels))\n",
    "# processor = LayoutLMv2Processor.from_pretrained(\"microsoft/layoutlmv2-base-uncased\", revision=\"no_ocr\")\n",
    "# b_model.load_state_dict(torch.load(b_PATH_MODEL,map_location=torch.device('cpu')))\n",
    "# device = torch.device('cuda' if torch.cuda.is_available() else 'cpu')\n",
    "# print(\"device =\",device)\n",
    "# _ = b_model.to(device)"
   ]
  },
  {
   "cell_type": "code",
   "execution_count": 5,
   "id": "053a6b51-f43a-4d68-9cfa-c14f4a8255ba",
   "metadata": {
    "tags": []
   },
   "outputs": [],
   "source": [
    "# l_PATH_MODEL = '/root/Balram/Layout_page_classification/prediction/loss_output_gpu/lossrun_model_page_classification_best.pt'\n",
    "\n",
    "# l_labels = ['others', 'lossrun']\n",
    "\n",
    "# l_model = LayoutLMv2ForSequenceClassification.from_pretrained('microsoft/layoutlmv2-base-uncased',\n",
    "#                                                           num_labels=len(l_labels))\n",
    "# processor = LayoutLMv2Processor.from_pretrained(\"microsoft/layoutlmv2-base-uncased\", revision=\"no_ocr\")\n",
    "# l_model = torch.load(l_PATH_MODEL,map_location=torch.device('cpu'))\n",
    "# device = torch.device('cuda' if torch.cuda.is_available() else 'cpu')\n",
    "# print(\"device =\",device)\n",
    "# _ = l_model.to(device)"
   ]
  },
  {
   "cell_type": "code",
   "execution_count": 6,
   "id": "302229bd-1c4d-4be4-92eb-8d557c151220",
   "metadata": {
    "tags": []
   },
   "outputs": [
    {
     "name": "stdout",
     "output_type": "stream",
     "text": [
      "bordereau_model_page_classification_best.pt  model.tar.gz\n",
      "\u001b[0m\u001b[01;34mbordex_output_gpu\u001b[0m/                           \u001b[01;34mpred_temp_lm_image\u001b[0m/\n",
      "loss_model.tar.gz                            prediction.ipynb\n",
      "loss_model_page_classification_best.pt       \u001b[01;34mtest_data\u001b[0m/\n",
      "\u001b[01;34mloss_output_gpu\u001b[0m/\n"
     ]
    }
   ],
   "source": [
    "ls"
   ]
  },
  {
   "cell_type": "code",
   "execution_count": 7,
   "id": "f565456e-2b36-40c2-a550-1f028abfa2e1",
   "metadata": {
    "tags": []
   },
   "outputs": [],
   "source": [
    "b_model = torch.load('bordereau_model_page_classification_best.pt')"
   ]
  },
  {
   "cell_type": "code",
   "execution_count": 6,
   "id": "710f8265-fb0f-45a8-b2e2-c090e8a1806a",
   "metadata": {
    "tags": []
   },
   "outputs": [],
   "source": [
    "l_model = torch.load('loss_model_page_classification_best.pt')"
   ]
  },
  {
   "cell_type": "code",
   "execution_count": 5,
   "id": "c78bad31-041d-408e-834d-bb801caa7fc6",
   "metadata": {
    "tags": []
   },
   "outputs": [],
   "source": [
    "processor = LayoutLMv2Processor.from_pretrained(\"microsoft/layoutlmv2-base-uncased\", revision=\"no_ocr\")\n"
   ]
  },
  {
   "cell_type": "code",
   "execution_count": null,
   "id": "6c31b35b-a540-4ae4-affa-aaafc48d662d",
   "metadata": {},
   "outputs": [],
   "source": []
  },
  {
   "cell_type": "code",
   "execution_count": 71,
   "id": "0a05d0bf-a2c4-447d-808c-d8871d56fc7d",
   "metadata": {
    "tags": []
   },
   "outputs": [
    {
     "name": "stdout",
     "output_type": "stream",
     "text": [
      "acknowledgement  advice  bordeau  calculation  lossrun\n"
     ]
    }
   ],
   "source": [
    "!ls 'test_data/'"
   ]
  },
  {
   "cell_type": "code",
   "execution_count": 107,
   "id": "5a1ba7a2-b805-4ea2-80ba-a80bb62cb75b",
   "metadata": {
    "tags": []
   },
   "outputs": [
    {
     "name": "stdout",
     "output_type": "stream",
     "text": [
      "8\n"
     ]
    }
   ],
   "source": [
    "f_path = '/root/Balram/Layout_page_classification/prediction/test_data/calculation/'\n",
    "pdfs = os.listdir(f_path)\n",
    "print(len(pdfs))"
   ]
  },
  {
   "cell_type": "code",
   "execution_count": 101,
   "id": "dd6d34ff-2acb-4b22-b8c6-559ffe08e528",
   "metadata": {
    "tags": []
   },
   "outputs": [
    {
     "data": {
      "text/plain": [
       "'PREMIUM_FRMARLR20000570033200001_11-01-2021_16_16_00.pdf'"
      ]
     },
     "execution_count": 101,
     "metadata": {},
     "output_type": "execute_result"
    }
   ],
   "source": [
    "pdfs[7]"
   ]
  },
  {
   "cell_type": "code",
   "execution_count": 8,
   "id": "94788bdd-6531-4101-ae78-870321c83b13",
   "metadata": {
    "tags": []
   },
   "outputs": [
    {
     "name": "stdout",
     "output_type": "stream",
     "text": [
      "{0: 'others', 1: 'bordereau'}\n",
      "/root/Balram/Layout_page_classification/prediction/test_data/bordeau/898_SUM_28-02-2023_11_57_00.pdf\n",
      "Total page counts =  1\n",
      "total_pages =  [1]\n",
      "Page_1 = bordereau\n"
     ]
    },
    {
     "data": {
      "text/plain": [
       "'bordereau'"
      ]
     },
     "execution_count": 8,
     "metadata": {},
     "output_type": "execute_result"
    }
   ],
   "source": [
    "pdf_path = '/root/Balram/Layout_page_classification/prediction/test_data/bordeau/898_SUM_28-02-2023_11_57_00.pdf'\n",
    "\n",
    "#pdf_path = f_path+Balram/Layout_page_classification/prediction/test_data/bordeau/898_SUM_28-02-2023_11_57_00.pdf\n",
    "\n",
    "b_labels = ['others', 'bordereau']\n",
    "b_id2label = {v: k for v, k in enumerate(b_labels)}\n",
    "print(b_id2label)\n",
    "\n",
    "pdf_file = open(pdf_path, 'rb')\n",
    "pdf_reader = PyPDF2.PdfReader(pdf_file)\n",
    "total_pages_count = len(pdf_reader.pages)\n",
    "\n",
    "print(pdf_path)\n",
    "print(\"Total page counts = \",total_pages_count)\n",
    "total_pages_count = total_pages_count if total_pages_count <=3 else 3\n",
    "total_pages = list(range(1,total_pages_count+1))\n",
    "print(\"total_pages = \",total_pages)\n",
    "\n",
    "predictions = []\n",
    "for page_no in total_pages:\n",
    "\n",
    "    page = convert_from_path(pdf_path, 500,size=(762,1000),first_page = page_no,last_page = page_no)\n",
    "    my_temp_image_path = 'pred_temp_lm_image/temp_'+str(page_no)+'.jpg'\n",
    "    page[0].save(my_temp_image_path, 'JPEG')\n",
    "    ocr_df = ocr_func(my_temp_image_path)\n",
    "    words = ocr_df.text.tolist()\n",
    "    boxes = ocr_df.norm_bbox.tolist()\n",
    "    \n",
    "    label = model_inferencing(my_temp_image_path,processor,words,boxes,b_model, b_id2label)\n",
    "    predictions.append(label)\n",
    "    print(f\"Page_{page_no} = {label}\")\n",
    "\n",
    "from collections import Counter\n",
    "counter = Counter(predictions)\n",
    "max_item = counter.most_common(1)[0]\n",
    "max_item[0]"
   ]
  },
  {
   "cell_type": "code",
   "execution_count": 14,
   "id": "dc719147-f9af-4a43-b752-4020b1bcee9c",
   "metadata": {
    "tags": []
   },
   "outputs": [
    {
     "name": "stdout",
     "output_type": "stream",
     "text": [
      "{0: 'others', 1: 'lossrun'}\n",
      "/root/Balram/Layout_page_classification/data_preparation/data/training_data/lossrun/_10m_x__15m_x_P_-_2020_-_ClaimsLoss_ClaimsPerInterest_-_EG0807020.pdf\n",
      "Total page counts =  3\n",
      "total_pages =  [1, 2, 3]\n",
      "Page_1 = lossrun\n",
      "Page_2 = lossrun\n",
      "Page_3 = lossrun\n"
     ]
    },
    {
     "data": {
      "text/plain": [
       "'lossrun'"
      ]
     },
     "execution_count": 14,
     "metadata": {},
     "output_type": "execute_result"
    }
   ],
   "source": [
    "#pdf_path = '/root/Balram/Layout_page_classification/data_preparation/data/training_data/lossrun/Loss_Run_-_Casino_Miami_LLC-Copy1.PDF'\n",
    "\n",
    "l_labels = ['others', 'lossrun']\n",
    "l_id2label = {v: k for v, k in enumerate(l_labels)}\n",
    "print(l_id2label)\n",
    "\n",
    "with open(pdf_path, 'rb') as pdf_file:\n",
    "    pdf_reader = PyPDF2.PdfReader(pdf_file)\n",
    "    total_pages_count = len(pdf_reader.pages)\n",
    "\n",
    "print(pdf_path)\n",
    "print(\"Total page counts = \",total_pages_count)\n",
    "total_pages_count = total_pages_count if total_pages_count <=3 else 3\n",
    "total_pages = list(range(1,total_pages_count+1))\n",
    "print(\"total_pages = \",total_pages)\n",
    "\n",
    "predictions = []\n",
    "for page_no in total_pages:\n",
    "\n",
    "    page = convert_from_path(pdf_path, 500,size=(762,1000),first_page = page_no,last_page = page_no)\n",
    "    my_temp_image_path = 'pred_temp_lm_image/temp_'+str(page_no)+'.jpg'\n",
    "    page[0].save(my_temp_image_path, 'JPEG')\n",
    "    ocr_df = ocr_func(my_temp_image_path)\n",
    "    words = ocr_df.text.tolist()\n",
    "    boxes = ocr_df.norm_bbox.tolist()\n",
    "    \n",
    "    label = model_inferencing(my_temp_image_path,processor,words,boxes,l_model, l_id2label)\n",
    "    predictions.append(label)\n",
    "    print(f\"Page_{page_no} = {label}\")\n",
    "\n",
    "from collections import Counter\n",
    "counter = Counter(predictions)\n",
    "max_item = counter.most_common(1)[0]\n",
    "max_item[0]"
   ]
  },
  {
   "cell_type": "code",
   "execution_count": 130,
   "id": "31665a80-61fd-41a1-bcf2-aa1270aaa7fb",
   "metadata": {
    "tags": []
   },
   "outputs": [],
   "source": [
    "torch.save(l_model, 'loss_model_page_classification_best.pt')\n",
    "#torch.save(processor, 'model_token_classification/processor.pt')"
   ]
  },
  {
   "cell_type": "code",
   "execution_count": 131,
   "id": "45365b24-8d11-4b54-b225-b1db05755755",
   "metadata": {
    "tags": []
   },
   "outputs": [],
   "source": [
    "torch.save(b_model, 'bordereau_model_page_classification_best.pt')\n"
   ]
  },
  {
   "cell_type": "code",
   "execution_count": 110,
   "id": "11111d8e-2d73-404f-ae7d-ae9998b6a31b",
   "metadata": {
    "tags": []
   },
   "outputs": [],
   "source": [
    "#  DependencyError: PyCryptodome is required for AES algorithm\n",
    "#!pip install pycryptodome==3.15.0"
   ]
  },
  {
   "cell_type": "code",
   "execution_count": null,
   "id": "882985b7-7364-4517-b5d7-1a076db69028",
   "metadata": {},
   "outputs": [],
   "source": [
    "## Test Data\n",
    "s3://sb-udv3-tenant-1c7ad518-tenantbucket-4js5bpwftyty/Convex-Sprint3-Testing-Data/lossrun/batch_1/"
   ]
  },
  {
   "cell_type": "code",
   "execution_count": null,
   "id": "76417d7b-ed37-46a7-b017-feef594ef247",
   "metadata": {},
   "outputs": [],
   "source": []
  },
  {
   "cell_type": "code",
   "execution_count": null,
   "id": "a397d41f-23a7-4984-98f7-bd95e2777f71",
   "metadata": {},
   "outputs": [],
   "source": [
    "# check\n",
    "\n",
    "/root/Balram/Layout_page_classification/prediction/test_data/lossrun/Loss_Record-_NOV23.pdf\n",
    "/root/Balram/Layout_page_classification/prediction/test_data/lossrun/2_23-24_HPLGL__5M_xs__5M_Quote_-_Scottsdale_as_of_11-9-23.pdf\n",
    "/root/Balram/Layout_page_classification/prediction/test_data/calculation/CALCULATION_FRENGDO20001040016700001_16-06-2020_17_15_00.pdf\n",
    "\n",
    "\n",
    "/root/Balram/Layout_page_classification/prediction/test_data/advice/PREMIUM_FRMARLR20000570033200001_11-01-2021_16_16_00.pdf"
   ]
  },
  {
   "cell_type": "code",
   "execution_count": 15,
   "id": "353ac4df-c187-4f8c-bcb5-6ab4d147bb8f",
   "metadata": {},
   "outputs": [],
   "source": [
    "{'advice': '99.82%',\n",
    " 'Bordereau': '94.3%', \n",
    " 'calculation': '0.3%',\n",
    " 'Loss Runs': '0.02%', \n",
    " 'MRC-Endorsement': '0.04%',\n",
    " 'MRC Slip': '0.24%', \n",
    " 'Proposal_Form': '0.0%'}"
   ]
  },
  {
   "cell_type": "markdown",
   "id": "3fde5d93-f702-4df7-b941-56897ecd403f",
   "metadata": {},
   "source": [
    "## Run on S3_pdf_path and s3_json_path"
   ]
  },
  {
   "cell_type": "code",
   "execution_count": 16,
   "id": "a5a00c01-05fc-40bd-b5da-3434b65bc44a",
   "metadata": {
    "tags": []
   },
   "outputs": [],
   "source": [
    "def normalize_box(box, width, height):\n",
    "    return [\n",
    "        int(1000 * (box[0] / width)),\n",
    "        int(1000 * (box[1] / height)),\n",
    "        int(1000 * (box[2] / width)),\n",
    "        int(1000 * (box[3] / height)),\n",
    "    ]\n",
    "\n",
    "def ocr_func_from_json(bucket, document):\n",
    "    #Get the document from S3\n",
    "    \"\"\"Extract text from json and return text dict, response, line df, word df.\n",
    "    modified_date: 7/20/2022,\n",
    "    modified by: Anshuman\"\"\"\n",
    "    \n",
    "    s3_connection = boto3.resource(\"s3\")\n",
    "    \n",
    "    client = boto3.client('s3')\n",
    "    \n",
    "    result = client.get_object(Bucket=bucket, Key=document)\n",
    "    text = result['Body'].read().decode('utf-8')\n",
    "    res = json.loads(text)\n",
    "    \n",
    "    width, height = 762,1000\n",
    "    \n",
    "    #****** WORD ************\n",
    "    left_cor = []\n",
    "    top_cor = []\n",
    "    width_cor = []\n",
    "    height_cor = []\n",
    "    page = []\n",
    "    \n",
    "    word_text = []\n",
    "    for response in res:\n",
    "        blocks=response[\"Blocks\"]\n",
    "        for block in blocks:\n",
    "            if (block[\"BlockType\"] == \"WORD\"):\n",
    "                left_cor.append(float(\"{:.0f}\".format(block[\"Geometry\"][\"BoundingBox\"][\"Left\"]*width)))\n",
    "                top_cor.append(float(\"{:.0f}\".format(block[\"Geometry\"][\"BoundingBox\"][\"Top\"]*height)))\n",
    "                width_cor.append(float(\"{:.0f}\".format(block[\"Geometry\"][\"BoundingBox\"][\"Width\"]*width)))\n",
    "                height_cor.append(float(\"{:.0f}\".format(block[\"Geometry\"][\"BoundingBox\"][\"Height\"]*height)))\n",
    "                word_text.append((block[\"Text\"]))\n",
    "                page.append(block[\"Page\"])\n",
    "    \n",
    "    df_word = pd.DataFrame(list(zip(left_cor,top_cor,width_cor,height_cor,word_text,page)),columns = [\"left\",\"top\",\"width\",\"height\",\"text\",\"page\"])    \n",
    "    df_word[\"right\"] = (df_word[\"left\"] + df_word[\"width\"])\n",
    "    df_word[\"bottom\"] = (df_word[\"top\"] + df_word[\"height\"])\n",
    "    \n",
    "    normalized_bboxes=[]\n",
    "    for row in df_word.iterrows():\n",
    "        row=row[1]\n",
    "        normalized_bboxes.append(normalize_box([row['left'], row['top'], row['right'], row['bottom']], width, height))\n",
    "    df_word['norm_bbox']=normalized_bboxes\n",
    "    \n",
    "    return df_word\n",
    "\n",
    "\n",
    "def get_image_from_s3(s3_pdf_path, bucketname, page_no):\n",
    "    s3 = boto3.client('s3')\n",
    "    result = s3.get_object(Bucket=bucketname, Key=s3_pdf_path)\n",
    "    pdf_byte_data = result['Body'].read()\n",
    "    images = convert_from_bytes(pdf_byte_data, 500,size=(762,1000),first_page = page_no,last_page = page_no)\n",
    "    if len(images)==0:\n",
    "        raise Exception(f'page_no {page_no} not found in pdf.')\n",
    "    image = images[0]\n",
    "    \n",
    "    return image"
   ]
  },
  {
   "cell_type": "code",
   "execution_count": 4,
   "id": "16418055-54cf-4a65-af06-684ab126d199",
   "metadata": {
    "tags": []
   },
   "outputs": [],
   "source": [
    "def model_inferencing(image_path,processor,words,boxes,model,id2label):\n",
    "    image = Image.open(image_path)\n",
    "    image = image.convert(\"RGB\")\n",
    "\n",
    "\n",
    "    encoding = processor(image,words,boxes=boxes, return_tensors=\"pt\", max_length=512,\n",
    "                             padding=\"max_length\", truncation=True)\n",
    "    \n",
    "#     print(\"\\nEncoding Keys :----\",encoding.keys())\n",
    "    \n",
    "    device = torch.device('cuda' if torch.cuda.is_available() else 'cpu')\n",
    "    \n",
    "    for k,v in encoding.items():\n",
    "        encoding[k] = v.to(device)\n",
    "    \n",
    "    outputs = model(**encoding)\n",
    "    label = id2label[outputs.logits.argmax(-1).item()]\n",
    "    return label"
   ]
  },
  {
   "cell_type": "code",
   "execution_count": 5,
   "id": "bbae26fc-1ce2-4bd5-a1ff-211d2557cba8",
   "metadata": {
    "tags": []
   },
   "outputs": [],
   "source": [
    "import boto3\n",
    "import json \n",
    "from collections import Counter\n",
    "import os\n",
    "import pandas as pd\n",
    "import io\n",
    "from PIL import Image\n",
    "from transformers import LayoutLMv2Processor, LayoutLMv2ForSequenceClassification\n",
    "import torch\n",
    "from pdf2image import convert_from_path,convert_from_bytes\n",
    "\n",
    "import warnings\n",
    "warnings.filterwarnings('ignore')\n",
    "\n",
    "os.environ[\"TOKENIZERS_PARALLELISM\"] = \"false\""
   ]
  },
  {
   "cell_type": "code",
   "execution_count": 6,
   "id": "0c6ade07-a26a-43d1-ad95-85043aeddf65",
   "metadata": {
    "tags": []
   },
   "outputs": [],
   "source": [
    "b_model = torch.load('bordereau_model_page_classification_best.pt')\n",
    "l_model = torch.load('loss_model_page_classification_best.pt')\n",
    "processor = LayoutLMv2Processor.from_pretrained(\"microsoft/layoutlmv2-base-uncased\", revision=\"no_ocr\")\n"
   ]
  },
  {
   "cell_type": "code",
   "execution_count": 33,
   "id": "c477e52e-e081-4ea6-a084-d0fdc9bda740",
   "metadata": {
    "scrolled": true,
    "tags": []
   },
   "outputs": [
    {
     "name": "stdout",
     "output_type": "stream",
     "text": [
      "                           PRE 1234555a/\n",
      "                           PRE 123456/\n",
      "                           PRE 16e54679-05b5-4915-8ac4-dcae429f42b3/\n",
      "                           PRE 20230706008/\n",
      "                           PRE 4f5def47-4cc0-413e-b6de-tenant-MRC/\n",
      "                           PRE 4f5def47-4cc0-413e-b6de-tenant-PSC/\n",
      "                           PRE 762819a6-28c8-4d3e-b17a-d330264a347e/\n",
      "                           PRE 76a321b4-ea31-41d9-916a-c4b1ae9df894/\n",
      "                           PRE 8cea04e8-31bd-41d1-a78b-120af453bc0e/\n",
      "                           PRE Classification_Model_Test_Data/\n",
      "                           PRE Deelip_Output_Directory/\n",
      "                           PRE Deelip_test_Directory/\n",
      "                           PRE Document_classifications/\n",
      "                           PRE EXL_dataset_30_08_2024/\n",
      "                           PRE Insurance_Specific_Model/\n",
      "                           PRE LayoutLM-BMg-1d6d4482-eab4-4f6c-bad8-fcb1e6a3fc95/\n",
      "                           PRE LayoutLM-BMg-da8c796f-6819-45f4-8fff-b232dec07e9b/\n",
      "                           PRE Layout_page_classification/\n",
      "                           PRE OCR/\n",
      "                           PRE UAT_TEST/\n",
      "                           PRE analytics_module/\n",
      "                           PRE brit_pdfs/\n",
      "                           PRE brits/\n",
      "                           PRE data/\n",
      "                           PRE data1/\n",
      "                           PRE data2/\n",
      "                           PRE e050e685-fa67-4dab-8dba-7abf6/\n",
      "                           PRE email_parser/\n",
      "                           PRE expenseapi/\n",
      "                           PRE hiscox_temp_files/\n",
      "                           PRE model-artifacts/\n",
      "                           PRE processing-job-files/\n",
      "                           PRE processing_job_files/\n",
      "                           PRE processing_job_input_files/\n",
      "                           PRE test/\n",
      "                           PRE test_excel_data/\n",
      "2024-07-01 13:55:01       2532 AI_ExtractionReport.zip\n"
     ]
    }
   ],
   "source": [
    "!aws s3 ls sagemaker-p-c7qmmnapl7uc/"
   ]
  },
  {
   "cell_type": "code",
   "execution_count": 7,
   "id": "181f2e4f-541c-4db6-ac3b-01debe03d4be",
   "metadata": {
    "tags": []
   },
   "outputs": [],
   "source": [
    "def pdf_classification_from_layout(pdf_path,json_path,bucket_name,processor = None,\n",
    "                                   model = None,id2label = None):\n",
    "    \n",
    "    try :\n",
    "        df_word = ocr_func_from_json(bucket_name, json_path)\n",
    "        total_pages = list(set(df_word['page'].tolist()))\n",
    "        total_pages = total_pages if len(total_pages) <=3 else total_pages[:3]\n",
    "        print(\"total_pages = \",total_pages)\n",
    "        predictions = []\n",
    "        for page_no in total_pages:\n",
    "            df_word_temp = df_word[df_word['page']==page_no]\n",
    "\n",
    "            words = df_word_temp.text.tolist()\n",
    "            boxes = df_word_temp.norm_bbox.tolist()\n",
    "            imgg = get_image_from_s3(pdf_path, bucket_name, page_no)\n",
    "            my_temp_image_path = 'pred_temp_lm_image_'+str(page_no)+'.jpg'\n",
    "            imgg.save(my_temp_image_path, 'JPEG')\n",
    "\n",
    "            label = model_inferencing(my_temp_image_path,processor,words,boxes,model, id2label)\n",
    "            predictions.append(label)\n",
    "            print(f\"Page_{page_no} = {label}\")\n",
    "\n",
    "\n",
    "        counter = Counter(predictions)\n",
    "        if counter:\n",
    "            max_item = counter.most_common(1)[0]\n",
    "            pdf_prediction = max_item[0]\n",
    "        else :\n",
    "            pdf_prediction = None\n",
    "        \n",
    "        return pdf_prediction\n",
    "        \n",
    "    except Exception as e:\n",
    "        print(\"ERROR = \",e)\n",
    "        return None"
   ]
  },
  {
   "cell_type": "code",
   "execution_count": 15,
   "id": "135ec528-fd64-467e-85bd-8c8b6e3735e3",
   "metadata": {
    "tags": []
   },
   "outputs": [
    {
     "name": "stdout",
     "output_type": "stream",
     "text": [
      "total_pages =  [1, 2, 3]\n",
      "Page_1 = lossrun\n",
      "Page_2 = lossrun\n",
      "Page_3 = lossrun\n"
     ]
    },
    {
     "data": {
      "text/plain": [
       "'lossrun'"
      ]
     },
     "execution_count": 15,
     "metadata": {},
     "output_type": "execute_result"
    }
   ],
   "source": [
    "pdf_path = 'Layout_page_classification/lossrun/16-23_REAPA_Loss_Run_valued_4.30.23.pdf'\n",
    "json_path = 'Layout_page_classification/lossrun/16-23_REAPA_Loss_Run_valued_4.30.23.json'\n",
    "bucket_name = 'sagemaker-p-c7qmmnapl7uc'\n",
    "\n",
    "\n",
    "l_id2label = {0: 'others', 1: 'lossrun'}\n",
    "b_id2label = {0: 'others', 1: 'bordereau'}\n",
    "\n",
    "pdf_classification_from_layout(pdf_path,json_path,bucket_name,processor = processor,\n",
    "                               model = l_model, id2label = l_id2label)\n",
    "\n"
   ]
  },
  {
   "cell_type": "code",
   "execution_count": null,
   "id": "ade71f1f-130b-4b77-9221-b7559827ecc0",
   "metadata": {},
   "outputs": [],
   "source": [
    "Bordereau/\n",
    "Loss Runs"
   ]
  },
  {
   "cell_type": "code",
   "execution_count": 29,
   "id": "f7717314-822e-4217-a723-c4f0d727484c",
   "metadata": {
    "tags": []
   },
   "outputs": [
    {
     "data": {
      "text/plain": [
       "'Bordereau'"
      ]
     },
     "execution_count": 29,
     "metadata": {},
     "output_type": "execute_result"
    }
   ],
   "source": [
    "output1 = 'Bordereau'\n",
    "output2 = 'Others'\n",
    "\n",
    "\n",
    "if (output1 == output2) :\n",
    "    b_out = output1\n",
    "        \n",
    "if (output1 != output2) :\n",
    "    if 'Others' in [output1,output2] :\n",
    "        b_out = output1 if output1 != 'Others' else output2\n",
    "    elif 'Others' not in [output1,output2]:\n",
    "        b_out = 'Bordereau/Loss Runs'\n",
    "        \n",
    "b_out"
   ]
  },
  {
   "cell_type": "code",
   "execution_count": null,
   "id": "00b3cd6e-5f74-4e38-8f8d-0a3ccf6e6e59",
   "metadata": {},
   "outputs": [],
   "source": [
    "b_model = torch.load('bordereau_model_page_classification_best.pt')\n",
    "l_model = torch.load('loss_model_page_classification_best.pt')\n",
    "processor = LayoutLMv2Processor.from_pretrained(\"microsoft/layoutlmv2-base-uncased\", revision=\"no_ocr\")\n"
   ]
  },
  {
   "cell_type": "code",
   "execution_count": 12,
   "id": "2a5c9e1c-fe1d-4659-adef-95590deec2ee",
   "metadata": {
    "scrolled": true,
    "tags": []
   },
   "outputs": [],
   "source": [
    "labels = ['others', 'bordereau']\n",
    "b_model = LayoutLMv2ForSequenceClassification.from_pretrained('microsoft/layoutlmv2-base-uncased',num_labels=len(labels))\n",
    "processor = LayoutLMv2Processor.from_pretrained(\"microsoft/layoutlmv2-base-uncased\", revision=\"no_ocr\")\n",
    "model.load_state_dict(torch.load(PATH_MODEL,map_location=torch.device('cpu')))\n",
    "device = torch.device('cuda' if torch.cuda.is_available() else 'cpu')\n",
    "print(\"device =\",device)\n",
    "_ = model.to(device)"
   ]
  },
  {
   "cell_type": "markdown",
   "id": "c0b73556-30b4-4ff6-8d14-279eccf06df9",
   "metadata": {},
   "source": [
    "## Layout Lm V3"
   ]
  },
  {
   "cell_type": "code",
   "execution_count": null,
   "id": "fa06446c-22af-4b98-b64e-5f98fd731226",
   "metadata": {
    "tags": []
   },
   "outputs": [],
   "source": [
    "# from transformers import AutoModel ,AutoConfig\n",
    "# import torch"
   ]
  },
  {
   "cell_type": "code",
   "execution_count": 2,
   "id": "f6eced53-240b-49e8-8127-a3ca66f0a091",
   "metadata": {
    "tags": []
   },
   "outputs": [],
   "source": [
    "import boto3\n",
    "import json \n",
    "import re\n",
    "from PIL import Image\n",
    "import io\n",
    "import pandas as pd\n",
    "def normalize_box(box, width, height):\n",
    "    return [\n",
    "        int(1000 * (box[0] / width)),\n",
    "        int(1000 * (box[1] / height)),\n",
    "        int(1000 * (box[2] / width)),\n",
    "        int(1000 * (box[3] / height)),\n",
    "    ]\n",
    "\n",
    "def ocr_func(image_path):\n",
    "#     print(f'Image path: {image_path}')\n",
    "    client =  boto3.client('textract')\n",
    "    image = Image.open(image_path)\n",
    "#     print(image.size)\n",
    "    width, height = image.size\n",
    "\n",
    "#     print(\"image.format: \",image.format)\n",
    "\n",
    "    imgByteArr = io.BytesIO()\n",
    "    image.save(imgByteArr, format=image.format)\n",
    "    imgByteArr = imgByteArr.getvalue()\n",
    "\n",
    "    responses = client.detect_document_text(Document = {\"Bytes\":imgByteArr})\n",
    "\n",
    "    left_cor = []\n",
    "    top_cor = []\n",
    "    width_cor = []\n",
    "    height_cor = []\n",
    "    page = []\n",
    "\n",
    "    line_text = []\n",
    "\n",
    "    blocks=responses[\"Blocks\"]\n",
    "    for block in blocks:\n",
    "        if (block[\"BlockType\"] == \"WORD\"):\n",
    "            left_cor.append(float(\"{:.0f}\".format(block[\"Geometry\"][\"BoundingBox\"][\"Left\"]*width)))\n",
    "            top_cor.append(float(\"{:.0f}\".format(block[\"Geometry\"][\"BoundingBox\"][\"Top\"]*height)))\n",
    "            width_cor.append(float(\"{:.0f}\".format(block[\"Geometry\"][\"BoundingBox\"][\"Width\"]*width)))\n",
    "            height_cor.append(float(\"{:.0f}\".format(block[\"Geometry\"][\"BoundingBox\"][\"Height\"]*height)))\n",
    "            line_text.append((block[\"Text\"]))\n",
    "    ocr_df = pd.DataFrame(list(zip(left_cor,top_cor,width_cor,height_cor,line_text)),columns = [\"left\",\"top\",\"width\",\"height\",\"text\"])    \n",
    "#     print(ocr_df.shape)\n",
    "#     print('ocr completed.')\n",
    "    ocr_df['right']=ocr_df['left']+ocr_df['width']\n",
    "    ocr_df['bottom']=ocr_df['top']+ocr_df['height']\n",
    "    \n",
    "    normalized_bboxes=[]\n",
    "    for row in ocr_df.iterrows():\n",
    "        row=row[1]\n",
    "        normalized_bboxes.append(normalize_box([row['left'], row['top'], row['right'], row['bottom']], width, height))\n",
    "    ocr_df['norm_bbox']=normalized_bboxes\n",
    "    return ocr_df"
   ]
  },
  {
   "cell_type": "code",
   "execution_count": 3,
   "id": "c1237567-8511-4103-8754-8f283a0a4e76",
   "metadata": {
    "tags": []
   },
   "outputs": [],
   "source": [
    "from transformers import AutoConfig,AutoModelForSequenceClassification\n",
    "from transformers import AutoProcessor, AutoModel\n",
    "import torch\n",
    "import os\n",
    "import warnings\n",
    "warnings.filterwarnings('ignore')\n",
    "\n",
    "os.environ[\"TOKENIZERS_PARALLELISM\"] = \"false\""
   ]
  },
  {
   "cell_type": "code",
   "execution_count": 4,
   "id": "d1273cce-ca03-4cc0-8d25-7ff542de7fb2",
   "metadata": {
    "tags": []
   },
   "outputs": [
    {
     "name": "stdout",
     "output_type": "stream",
     "text": [
      "Major-Financial-Statements_image1.png  config.json    pytorch_model.bin\n",
      "Major-Financial-Statements_image3.png  lmv3_test.jpg\n"
     ]
    }
   ],
   "source": [
    "ls LMV3"
   ]
  },
  {
   "cell_type": "code",
   "execution_count": 5,
   "id": "dfb3d9d3-5ebf-48c4-96ef-23bed52fdc84",
   "metadata": {
    "tags": []
   },
   "outputs": [],
   "source": [
    "# config = AutoConfig.from_pretrained('LMV3/config.json')\n",
    "# model = AutoModelForSequenceClassification.from_pretrained('LMV3/pytorch_model.bin',config =config,local_files_only=True)"
   ]
  },
  {
   "cell_type": "code",
   "execution_count": 4,
   "id": "1051ee89-debb-41cb-9c40-fd55f980d268",
   "metadata": {
    "tags": []
   },
   "outputs": [],
   "source": [
    "processor = AutoProcessor.from_pretrained(\"microsoft/layoutlmv3-base\", apply_ocr=False)\n"
   ]
  },
  {
   "cell_type": "code",
   "execution_count": 5,
   "id": "55f47dca-8a79-4c5d-ad0c-11e792b7ce41",
   "metadata": {
    "tags": []
   },
   "outputs": [],
   "source": [
    "# import torch\n",
    "# torch.save(model, 'lmv3_pc_financial_best.pt')"
   ]
  },
  {
   "cell_type": "code",
   "execution_count": 5,
   "id": "f56c6a2d-ff17-4812-a8cf-73ecdbcbcd54",
   "metadata": {
    "tags": []
   },
   "outputs": [],
   "source": [
    "model = torch.load('lmv3_pc_financial_best.pt')\n",
    "# device = torch.device('cuda' if torch.cuda.is_available() else 'cpu')\n",
    "# _ = model.to(device)\n"
   ]
  },
  {
   "cell_type": "code",
   "execution_count": 11,
   "id": "deffb915-6a1b-42fc-89ff-37e989984785",
   "metadata": {
    "tags": []
   },
   "outputs": [
    {
     "name": "stdout",
     "output_type": "stream",
     "text": [
      "\u001b[0m\u001b[01;34mLMV3\u001b[0m/                                        model.tar.gz\n",
      "bordereau_model_page_classification_best.pt  \u001b[01;34mpred_temp_lm_image\u001b[0m/\n",
      "\u001b[01;34mbordex_output_gpu\u001b[0m/                           pred_temp_lm_image_1.jpg\n",
      "lmv3_pc_financial_best.pt                    pred_temp_lm_image_2.jpg\n",
      "loss_model.tar.gz                            pred_temp_lm_image_3.jpg\n",
      "loss_model_page_classification_best.pt       prediction.ipynb\n",
      "\u001b[01;34mloss_output_gpu\u001b[0m/                             \u001b[01;34mtest_data\u001b[0m/\n"
     ]
    }
   ],
   "source": [
    "ls"
   ]
  },
  {
   "cell_type": "code",
   "execution_count": 12,
   "id": "2ba87ce0-9431-41de-9d00-da8d7fd1bbba",
   "metadata": {
    "tags": []
   },
   "outputs": [
    {
     "name": "stdout",
     "output_type": "stream",
     "text": [
      "Major-Financial-Statements_image1.png  config.json    pytorch_model.bin\n",
      "Major-Financial-Statements_image3.png  lmv3_test.jpg\n"
     ]
    }
   ],
   "source": [
    "!ls LMV3"
   ]
  },
  {
   "cell_type": "code",
   "execution_count": 8,
   "id": "ca21e1e6-c303-49cd-9b7d-c51792abf6b4",
   "metadata": {
    "tags": []
   },
   "outputs": [
    {
     "name": "stdout",
     "output_type": "stream",
     "text": [
      "(762, 1000)\n",
      "\n",
      "Encoding Keys :---- dict_keys(['input_ids', 'attention_mask', 'bbox', 'pixel_values'])\n",
      "\n",
      "Encoding Keys :---- dict_keys(['input_ids', 'attention_mask', 'bbox', 'pixel_values'])\n",
      "tensor([[ 4.8911,  0.5463, -1.7835, -1.4975, -1.7640]],\n",
      "       grad_fn=<AddmmBackward0>)\n"
     ]
    },
    {
     "data": {
      "text/plain": [
       "'balance_sheets'"
      ]
     },
     "execution_count": 8,
     "metadata": {},
     "output_type": "execute_result"
    }
   ],
   "source": [
    "\n",
    "image_path = 'LMV3/Major-Financial-Statements_image1.png'\n",
    "device = torch.device('cuda' if torch.cuda.is_available() else 'cpu')\n",
    "id2label = {0: \"balance_sheets\",1: \"cash_flow\",2: \"income_statement\",3: \"notes\",4: \"others\"}\n",
    "\n",
    "image = Image.open(image_path)\n",
    "image = image.convert(\"RGB\")\n",
    "image = image.resize((762,1000))\n",
    "\n",
    "print(image.size)\n",
    "ocr_df = ocr_func(image_path)\n",
    "words = ocr_df.text.tolist()\n",
    "boxes = ocr_df.norm_bbox.tolist()\n",
    "\n",
    "encoding = processor(image,words,boxes=boxes, return_tensors=\"pt\", max_length=512,\n",
    "                             padding=\"max_length\", truncation=True)\n",
    "\n",
    "print(\"\\nEncoding Keys :----\",encoding.keys())\n",
    "   \n",
    "for k,v in encoding.items():\n",
    "    encoding[k] = v.to(device)\n",
    "print(\"\\nEncoding Keys :----\",encoding.keys())\n",
    "outputs = model(**encoding)\n",
    "print(outputs.logits)\n",
    "label = id2label[outputs.logits.argmax(-1).item()]\n",
    "label"
   ]
  },
  {
   "cell_type": "code",
   "execution_count": 7,
   "id": "cc156ce8-8d6e-4f5b-84e8-58fbd9edf32d",
   "metadata": {
    "tags": []
   },
   "outputs": [
    {
     "data": {
      "image/png": "[encoded data removed]",
      "text/plain": [
       "<PIL.Image.Image image mode=RGB size=762x1000 at 0x7F83EF99EA00>"
      ]
     },
     "execution_count": 7,
     "metadata": {},
     "output_type": "execute_result"
    }
   ],
   "source": [
    "image"
   ]
  },
  {
   "cell_type": "code",
   "execution_count": 9,
   "id": "6a30cca2-6b49-43b3-8e37-75f93d906119",
   "metadata": {
    "tags": []
   },
   "outputs": [
    {
     "name": "stdout",
     "output_type": "stream",
     "text": [
      "/root/Balram/Layout_page_classification/prediction\n"
     ]
    }
   ],
   "source": [
    "!pwd"
   ]
  },
  {
   "cell_type": "code",
   "execution_count": 9,
   "id": "c938a832-990e-4410-9d72-5e2758a3494a",
   "metadata": {
    "tags": []
   },
   "outputs": [],
   "source": []
  },
  {
   "cell_type": "code",
   "execution_count": 49,
   "id": "32cfd740-2c22-4e0f-9853-6eb38c3793be",
   "metadata": {
    "tags": []
   },
   "outputs": [
    {
     "name": "stdout",
     "output_type": "stream",
     "text": [
      "129\n",
      "129\n"
     ]
    },
    {
     "data": {
      "text/plain": [
       "[('R&D', [422, 104, 454, 115]),\n",
       " ('R&D', [337, 204, 366, 214]),\n",
       " ('QUALITY', [374, 203, 439, 215]),\n",
       " ('IMPROVEMENT', [448, 202, 549, 213]),\n",
       " ('SUGGESTION/SOLUTION', [334, 216, 510, 229])]"
      ]
     },
     "execution_count": 49,
     "metadata": {},
     "output_type": "execute_result"
    }
   ],
   "source": [
    "print(len(words))\n",
    "print(len(boxes))\n",
    "\n",
    "list(zip(words,boxes))[:5]"
   ]
  },
  {
   "cell_type": "code",
   "execution_count": 46,
   "id": "c6279057-a5c3-404b-80eb-43f04818d093",
   "metadata": {
    "scrolled": true,
    "tags": []
   },
   "outputs": [
    {
     "name": "stdout",
     "output_type": "stream",
     "text": [
      "129\n"
     ]
    },
    {
     "data": {
      "text/plain": [
       "['R&D',\n",
       " 'R&D',\n",
       " 'QUALITY',\n",
       " 'IMPROVEMENT',\n",
       " 'SUGGESTION/SOLUTION',\n",
       " 'FORM',\n",
       " 'Name/Phone',\n",
       " 'Ext.:',\n",
       " 'M.',\n",
       " 'Hamann.',\n",
       " 'P.',\n",
       " 'Harper.',\n",
       " 'P.',\n",
       " 'Martinez',\n",
       " 'Date:',\n",
       " '9/3/92',\n",
       " 'Supervisor/Manager:',\n",
       " 'J.',\n",
       " 'S.',\n",
       " 'Wigand',\n",
       " 'R&D',\n",
       " 'Group:',\n",
       " 'Licensee',\n",
       " 'Suggestion:',\n",
       " 'Discontinue',\n",
       " 'coal',\n",
       " 'retention',\n",
       " 'analyses',\n",
       " 'on',\n",
       " 'licensee',\n",
       " 'submitted',\n",
       " 'product',\n",
       " 'samples.',\n",
       " '(Note:',\n",
       " 'Coal',\n",
       " 'Retention',\n",
       " 'testing',\n",
       " 'is',\n",
       " 'not',\n",
       " 'performed',\n",
       " 'by',\n",
       " 'most',\n",
       " 'licensees.',\n",
       " 'Other',\n",
       " 'B&W',\n",
       " 'physical',\n",
       " 'measurements',\n",
       " 'as',\n",
       " 'ends',\n",
       " 'stability',\n",
       " 'and',\n",
       " 'inspection',\n",
       " 'for',\n",
       " 'soft',\n",
       " 'spots',\n",
       " 'in',\n",
       " 'cigarettes',\n",
       " 'are',\n",
       " 'thought',\n",
       " 'to',\n",
       " 'be',\n",
       " 'sufficient',\n",
       " 'measures',\n",
       " 'to',\n",
       " 'assure',\n",
       " 'cigarette',\n",
       " 'physical',\n",
       " 'integrity.',\n",
       " 'The',\n",
       " 'proposed',\n",
       " 'action',\n",
       " 'will',\n",
       " 'increase',\n",
       " 'laboratory',\n",
       " 'productivity.)',\n",
       " 'Suggested',\n",
       " 'Solution(s):',\n",
       " 'Delete',\n",
       " 'coal',\n",
       " 'retention',\n",
       " 'from',\n",
       " 'the',\n",
       " 'list',\n",
       " 'of',\n",
       " 'standard',\n",
       " 'analyses',\n",
       " 'performed',\n",
       " 'on',\n",
       " 'licensee',\n",
       " 'submitted',\n",
       " 'product',\n",
       " 'samples.',\n",
       " 'Special',\n",
       " 'requests',\n",
       " 'for',\n",
       " 'coal',\n",
       " 'retention',\n",
       " 'testing',\n",
       " 'could',\n",
       " 'still',\n",
       " 'be',\n",
       " 'submitted',\n",
       " 'on',\n",
       " 'an',\n",
       " 'exception',\n",
       " 'basis.',\n",
       " 'Have',\n",
       " 'you',\n",
       " 'contacted',\n",
       " 'your',\n",
       " 'Manager/Supervisor?',\n",
       " 'Yes',\n",
       " 'No',\n",
       " '-',\n",
       " 'Manager',\n",
       " 'Comments:',\n",
       " 'Manager,',\n",
       " 'please',\n",
       " 'contact',\n",
       " 'suggester',\n",
       " 'and',\n",
       " 'forward',\n",
       " 'comments',\n",
       " 'to',\n",
       " 'the',\n",
       " 'Quality',\n",
       " 'Council.',\n",
       " 'qip.wp',\n",
       " '597005708']"
      ]
     },
     "execution_count": 46,
     "metadata": {},
     "output_type": "execute_result"
    }
   ],
   "source": [
    "\n",
    "print(len(words))\n",
    "words"
   ]
  },
  {
   "cell_type": "code",
   "execution_count": 45,
   "id": "26ab42be-35e1-4133-8143-398c1263ef92",
   "metadata": {
    "scrolled": true,
    "tags": []
   },
   "outputs": [
    {
     "name": "stdout",
     "output_type": "stream",
     "text": [
      "129\n"
     ]
    },
    {
     "data": {
      "text/plain": [
       "[[422, 104, 454, 115],\n",
       " [337, 204, 366, 214],\n",
       " [374, 203, 439, 215],\n",
       " [448, 202, 549, 213],\n",
       " [334, 216, 510, 229],\n",
       " [517, 215, 556, 225],\n",
       " [119, 276, 211, 289],\n",
       " [221, 275, 265, 286],\n",
       " [284, 274, 301, 285],\n",
       " [311, 274, 374, 285],\n",
       " [385, 273, 402, 284],\n",
       " [413, 272, 476, 283],\n",
       " [485, 272, 502, 283],\n",
       " [513, 271, 587, 282],\n",
       " [632, 270, 677, 281],\n",
       " [715, 268, 772, 281],\n",
       " [122, 316, 295, 330],\n",
       " [313, 315, 330, 325],\n",
       " [341, 314, 356, 325],\n",
       " [367, 314, 425, 326],\n",
       " [551, 312, 580, 322],\n",
       " [587, 311, 641, 323],\n",
       " [671, 310, 745, 320],\n",
       " [123, 357, 220, 371],\n",
       " [250, 355, 350, 366],\n",
       " [360, 354, 397, 365],\n",
       " [406, 353, 489, 364],\n",
       " [498, 352, 572, 364],\n",
       " [581, 354, 601, 362],\n",
       " [608, 351, 682, 362],\n",
       " [691, 349, 775, 360],\n",
       " [250, 369, 314, 382],\n",
       " [325, 368, 397, 381],\n",
       " [417, 367, 469, 379],\n",
       " [489, 366, 526, 376],\n",
       " [535, 365, 619, 376],\n",
       " [628, 364, 692, 376],\n",
       " [702, 363, 719, 373],\n",
       " [728, 364, 757, 374],\n",
       " [251, 382, 334, 395],\n",
       " [342, 381, 362, 394],\n",
       " [370, 382, 408, 391],\n",
       " [417, 380, 506, 390],\n",
       " [526, 379, 573, 390],\n",
       " [581, 378, 610, 388],\n",
       " [618, 378, 691, 390],\n",
       " [251, 396, 362, 407],\n",
       " [371, 396, 389, 404],\n",
       " [398, 394, 435, 404],\n",
       " [444, 393, 528, 405],\n",
       " [536, 392, 564, 402],\n",
       " [573, 391, 665, 403],\n",
       " [674, 391, 702, 401],\n",
       " [711, 390, 748, 400],\n",
       " [251, 410, 296, 421],\n",
       " [308, 409, 326, 419],\n",
       " [334, 408, 426, 420],\n",
       " [435, 409, 463, 417],\n",
       " [473, 406, 538, 418],\n",
       " [547, 406, 565, 415],\n",
       " [572, 405, 590, 416],\n",
       " [599, 404, 692, 415],\n",
       " [702, 405, 776, 414],\n",
       " [251, 423, 270, 432],\n",
       " [279, 424, 334, 433],\n",
       " [345, 421, 427, 433],\n",
       " [435, 419, 509, 432],\n",
       " [518, 418, 607, 431],\n",
       " [628, 417, 657, 428],\n",
       " [665, 417, 741, 429],\n",
       " [253, 436, 308, 447],\n",
       " [316, 435, 353, 446],\n",
       " [363, 435, 437, 445],\n",
       " [446, 433, 538, 446],\n",
       " [545, 431, 673, 445],\n",
       " [125, 491, 209, 505],\n",
       " [219, 489, 326, 502],\n",
       " [345, 488, 401, 499],\n",
       " [410, 487, 447, 498],\n",
       " [455, 486, 540, 497],\n",
       " [548, 485, 585, 496],\n",
       " [594, 485, 622, 496],\n",
       " [631, 484, 667, 495],\n",
       " [677, 484, 695, 495],\n",
       " [704, 483, 778, 494],\n",
       " [346, 501, 419, 513],\n",
       " [429, 500, 513, 513],\n",
       " [520, 502, 540, 510],\n",
       " [548, 498, 622, 509],\n",
       " [631, 498, 715, 509],\n",
       " [346, 515, 412, 527],\n",
       " [421, 514, 492, 526],\n",
       " [511, 513, 576, 526],\n",
       " [585, 513, 658, 525],\n",
       " [667, 511, 695, 522],\n",
       " [704, 510, 741, 521],\n",
       " [346, 528, 430, 538],\n",
       " [439, 528, 505, 540],\n",
       " [511, 526, 559, 537],\n",
       " [566, 525, 611, 536],\n",
       " [622, 525, 641, 535],\n",
       " [649, 524, 733, 536],\n",
       " [742, 526, 762, 534],\n",
       " [346, 544, 366, 552],\n",
       " [374, 541, 459, 553],\n",
       " [465, 540, 520, 551],\n",
       " [127, 612, 165, 622],\n",
       " [173, 614, 203, 624],\n",
       " [211, 611, 293, 622],\n",
       " [301, 612, 339, 623],\n",
       " [347, 608, 523, 622],\n",
       " [604, 606, 633, 616],\n",
       " [715, 604, 734, 615],\n",
       " [687, 613, 708, 618],\n",
       " [128, 653, 194, 665],\n",
       " [203, 651, 283, 661],\n",
       " [303, 650, 375, 662],\n",
       " [385, 649, 442, 662],\n",
       " [451, 649, 515, 659],\n",
       " [524, 648, 607, 660],\n",
       " [616, 646, 644, 656],\n",
       " [653, 645, 717, 656],\n",
       " [129, 667, 203, 677],\n",
       " [212, 666, 230, 675],\n",
       " [240, 665, 267, 675],\n",
       " [275, 664, 342, 677],\n",
       " [350, 663, 422, 674],\n",
       " [133, 824, 188, 837],\n",
       " [690, 907, 838, 925]]"
      ]
     },
     "execution_count": 45,
     "metadata": {},
     "output_type": "execute_result"
    }
   ],
   "source": [
    "print(len(boxes))\n",
    "boxes"
   ]
  },
  {
   "cell_type": "code",
   "execution_count": null,
   "id": "a1c9a67e-749e-4596-98d0-d72725b78cf1",
   "metadata": {},
   "outputs": [],
   "source": []
  },
  {
   "cell_type": "code",
   "execution_count": 35,
   "id": "661a78e5-dedc-4e35-b3de-471edc23bd93",
   "metadata": {
    "tags": []
   },
   "outputs": [],
   "source": [
    "#con = AutoConfig.from_pretrained('pytorch_model.bin')"
   ]
  },
  {
   "cell_type": "code",
   "execution_count": 36,
   "id": "ce319a60-7cfd-4274-a48a-e5caeda746d8",
   "metadata": {
    "tags": []
   },
   "outputs": [],
   "source": [
    "# from transformers import AutoModel \n",
    "# #model = AutoModel.from_pretrained('.\\model',local_files_only=True)\n",
    "# #model = AutoModel.from_pretrained('LMV3/pytorch_model.bin',config='LMV3/config.json', local_files_only=True)\n",
    "# model = AutoModel.from_pretrained('LMV3/config.json', local_files_only=True)"
   ]
  }
 ],
 "metadata": {
  "availableInstances": [
   {
    "_defaultOrder": 0,
    "_isFastLaunch": true,
    "category": "General purpose",
    "gpuNum": 0,
    "hideHardwareSpecs": false,
    "memoryGiB": 4,
    "name": "ml.t3.medium",
    "vcpuNum": 2
   },
   {
    "_defaultOrder": 1,
    "_isFastLaunch": false,
    "category": "General purpose",
    "gpuNum": 0,
    "hideHardwareSpecs": false,
    "memoryGiB": 8,
    "name": "ml.t3.large",
    "vcpuNum": 2
   },
   {
    "_defaultOrder": 2,
    "_isFastLaunch": false,
    "category": "General purpose",
    "gpuNum": 0,
    "hideHardwareSpecs": false,
    "memoryGiB": 16,
    "name": "ml.t3.xlarge",
    "vcpuNum": 4
   },
   {
    "_defaultOrder": 3,
    "_isFastLaunch": false,
    "category": "General purpose",
    "gpuNum": 0,
    "hideHardwareSpecs": false,
    "memoryGiB": 32,
    "name": "ml.t3.2xlarge",
    "vcpuNum": 8
   },
   {
    "_defaultOrder": 4,
    "_isFastLaunch": true,
    "category": "General purpose",
    "gpuNum": 0,
    "hideHardwareSpecs": false,
    "memoryGiB": 8,
    "name": "ml.m5.large",
    "vcpuNum": 2
   },
   {
    "_defaultOrder": 5,
    "_isFastLaunch": false,
    "category": "General purpose",
    "gpuNum": 0,
    "hideHardwareSpecs": false,
    "memoryGiB": 16,
    "name": "ml.m5.xlarge",
    "vcpuNum": 4
   },
   {
    "_defaultOrder": 6,
    "_isFastLaunch": false,
    "category": "General purpose",
    "gpuNum": 0,
    "hideHardwareSpecs": false,
    "memoryGiB": 32,
    "name": "ml.m5.2xlarge",
    "vcpuNum": 8
   },
   {
    "_defaultOrder": 7,
    "_isFastLaunch": false,
    "category": "General purpose",
    "gpuNum": 0,
    "hideHardwareSpecs": false,
    "memoryGiB": 64,
    "name": "ml.m5.4xlarge",
    "vcpuNum": 16
   },
   {
    "_defaultOrder": 8,
    "_isFastLaunch": false,
    "category": "General purpose",
    "gpuNum": 0,
    "hideHardwareSpecs": false,
    "memoryGiB": 128,
    "name": "ml.m5.8xlarge",
    "vcpuNum": 32
   },
   {
    "_defaultOrder": 9,
    "_isFastLaunch": false,
    "category": "General purpose",
    "gpuNum": 0,
    "hideHardwareSpecs": false,
    "memoryGiB": 192,
    "name": "ml.m5.12xlarge",
    "vcpuNum": 48
   },
   {
    "_defaultOrder": 10,
    "_isFastLaunch": false,
    "category": "General purpose",
    "gpuNum": 0,
    "hideHardwareSpecs": false,
    "memoryGiB": 256,
    "name": "ml.m5.16xlarge",
    "vcpuNum": 64
   },
   {
    "_defaultOrder": 11,
    "_isFastLaunch": false,
    "category": "General purpose",
    "gpuNum": 0,
    "hideHardwareSpecs": false,
    "memoryGiB": 384,
    "name": "ml.m5.24xlarge",
    "vcpuNum": 96
   },
   {
    "_defaultOrder": 12,
    "_isFastLaunch": false,
    "category": "General purpose",
    "gpuNum": 0,
    "hideHardwareSpecs": false,
    "memoryGiB": 8,
    "name": "ml.m5d.large",
    "vcpuNum": 2
   },
   {
    "_defaultOrder": 13,
    "_isFastLaunch": false,
    "category": "General purpose",
    "gpuNum": 0,
    "hideHardwareSpecs": false,
    "memoryGiB": 16,
    "name": "ml.m5d.xlarge",
    "vcpuNum": 4
   },
   {
    "_defaultOrder": 14,
    "_isFastLaunch": false,
    "category": "General purpose",
    "gpuNum": 0,
    "hideHardwareSpecs": false,
    "memoryGiB": 32,
    "name": "ml.m5d.2xlarge",
    "vcpuNum": 8
   },
   {
    "_defaultOrder": 15,
    "_isFastLaunch": false,
    "category": "General purpose",
    "gpuNum": 0,
    "hideHardwareSpecs": false,
    "memoryGiB": 64,
    "name": "ml.m5d.4xlarge",
    "vcpuNum": 16
   },
   {
    "_defaultOrder": 16,
    "_isFastLaunch": false,
    "category": "General purpose",
    "gpuNum": 0,
    "hideHardwareSpecs": false,
    "memoryGiB": 128,
    "name": "ml.m5d.8xlarge",
    "vcpuNum": 32
   },
   {
    "_defaultOrder": 17,
    "_isFastLaunch": false,
    "category": "General purpose",
    "gpuNum": 0,
    "hideHardwareSpecs": false,
    "memoryGiB": 192,
    "name": "ml.m5d.12xlarge",
    "vcpuNum": 48
   },
   {
    "_defaultOrder": 18,
    "_isFastLaunch": false,
    "category": "General purpose",
    "gpuNum": 0,
    "hideHardwareSpecs": false,
    "memoryGiB": 256,
    "name": "ml.m5d.16xlarge",
    "vcpuNum": 64
   },
   {
    "_defaultOrder": 19,
    "_isFastLaunch": false,
    "category": "General purpose",
    "gpuNum": 0,
    "hideHardwareSpecs": false,
    "memoryGiB": 384,
    "name": "ml.m5d.24xlarge",
    "vcpuNum": 96
   },
   {
    "_defaultOrder": 20,
    "_isFastLaunch": false,
    "category": "General purpose",
    "gpuNum": 0,
    "hideHardwareSpecs": true,
    "memoryGiB": 0,
    "name": "ml.geospatial.interactive",
    "supportedImageNames": [
     "sagemaker-geospatial-v1-0"
    ],
    "vcpuNum": 0
   },
   {
    "_defaultOrder": 21,
    "_isFastLaunch": true,
    "category": "Compute optimized",
    "gpuNum": 0,
    "hideHardwareSpecs": false,
    "memoryGiB": 4,
    "name": "ml.c5.large",
    "vcpuNum": 2
   },
   {
    "_defaultOrder": 22,
    "_isFastLaunch": false,
    "category": "Compute optimized",
    "gpuNum": 0,
    "hideHardwareSpecs": false,
    "memoryGiB": 8,
    "name": "ml.c5.xlarge",
    "vcpuNum": 4
   },
   {
    "_defaultOrder": 23,
    "_isFastLaunch": false,
    "category": "Compute optimized",
    "gpuNum": 0,
    "hideHardwareSpecs": false,
    "memoryGiB": 16,
    "name": "ml.c5.2xlarge",
    "vcpuNum": 8
   },
   {
    "_defaultOrder": 24,
    "_isFastLaunch": false,
    "category": "Compute optimized",
    "gpuNum": 0,
    "hideHardwareSpecs": false,
    "memoryGiB": 32,
    "name": "ml.c5.4xlarge",
    "vcpuNum": 16
   },
   {
    "_defaultOrder": 25,
    "_isFastLaunch": false,
    "category": "Compute optimized",
    "gpuNum": 0,
    "hideHardwareSpecs": false,
    "memoryGiB": 72,
    "name": "ml.c5.9xlarge",
    "vcpuNum": 36
   },
   {
    "_defaultOrder": 26,
    "_isFastLaunch": false,
    "category": "Compute optimized",
    "gpuNum": 0,
    "hideHardwareSpecs": false,
    "memoryGiB": 96,
    "name": "ml.c5.12xlarge",
    "vcpuNum": 48
   },
   {
    "_defaultOrder": 27,
    "_isFastLaunch": false,
    "category": "Compute optimized",
    "gpuNum": 0,
    "hideHardwareSpecs": false,
    "memoryGiB": 144,
    "name": "ml.c5.18xlarge",
    "vcpuNum": 72
   },
   {
    "_defaultOrder": 28,
    "_isFastLaunch": false,
    "category": "Compute optimized",
    "gpuNum": 0,
    "hideHardwareSpecs": false,
    "memoryGiB": 192,
    "name": "ml.c5.24xlarge",
    "vcpuNum": 96
   },
   {
    "_defaultOrder": 29,
    "_isFastLaunch": true,
    "category": "Accelerated computing",
    "gpuNum": 1,
    "hideHardwareSpecs": false,
    "memoryGiB": 16,
    "name": "ml.g4dn.xlarge",
    "vcpuNum": 4
   },
   {
    "_defaultOrder": 30,
    "_isFastLaunch": false,
    "category": "Accelerated computing",
    "gpuNum": 1,
    "hideHardwareSpecs": false,
    "memoryGiB": 32,
    "name": "ml.g4dn.2xlarge",
    "vcpuNum": 8
   },
   {
    "_defaultOrder": 31,
    "_isFastLaunch": false,
    "category": "Accelerated computing",
    "gpuNum": 1,
    "hideHardwareSpecs": false,
    "memoryGiB": 64,
    "name": "ml.g4dn.4xlarge",
    "vcpuNum": 16
   },
   {
    "_defaultOrder": 32,
    "_isFastLaunch": false,
    "category": "Accelerated computing",
    "gpuNum": 1,
    "hideHardwareSpecs": false,
    "memoryGiB": 128,
    "name": "ml.g4dn.8xlarge",
    "vcpuNum": 32
   },
   {
    "_defaultOrder": 33,
    "_isFastLaunch": false,
    "category": "Accelerated computing",
    "gpuNum": 4,
    "hideHardwareSpecs": false,
    "memoryGiB": 192,
    "name": "ml.g4dn.12xlarge",
    "vcpuNum": 48
   },
   {
    "_defaultOrder": 34,
    "_isFastLaunch": false,
    "category": "Accelerated computing",
    "gpuNum": 1,
    "hideHardwareSpecs": false,
    "memoryGiB": 256,
    "name": "ml.g4dn.16xlarge",
    "vcpuNum": 64
   },
   {
    "_defaultOrder": 35,
    "_isFastLaunch": false,
    "category": "Accelerated computing",
    "gpuNum": 1,
    "hideHardwareSpecs": false,
    "memoryGiB": 61,
    "name": "ml.p3.2xlarge",
    "vcpuNum": 8
   },
   {
    "_defaultOrder": 36,
    "_isFastLaunch": false,
    "category": "Accelerated computing",
    "gpuNum": 4,
    "hideHardwareSpecs": false,
    "memoryGiB": 244,
    "name": "ml.p3.8xlarge",
    "vcpuNum": 32
   },
   {
    "_defaultOrder": 37,
    "_isFastLaunch": false,
    "category": "Accelerated computing",
    "gpuNum": 8,
    "hideHardwareSpecs": false,
    "memoryGiB": 488,
    "name": "ml.p3.16xlarge",
    "vcpuNum": 64
   },
   {
    "_defaultOrder": 38,
    "_isFastLaunch": false,
    "category": "Accelerated computing",
    "gpuNum": 8,
    "hideHardwareSpecs": false,
    "memoryGiB": 768,
    "name": "ml.p3dn.24xlarge",
    "vcpuNum": 96
   },
   {
    "_defaultOrder": 39,
    "_isFastLaunch": false,
    "category": "Memory Optimized",
    "gpuNum": 0,
    "hideHardwareSpecs": false,
    "memoryGiB": 16,
    "name": "ml.r5.large",
    "vcpuNum": 2
   },
   {
    "_defaultOrder": 40,
    "_isFastLaunch": false,
    "category": "Memory Optimized",
    "gpuNum": 0,
    "hideHardwareSpecs": false,
    "memoryGiB": 32,
    "name": "ml.r5.xlarge",
    "vcpuNum": 4
   },
   {
    "_defaultOrder": 41,
    "_isFastLaunch": false,
    "category": "Memory Optimized",
    "gpuNum": 0,
    "hideHardwareSpecs": false,
    "memoryGiB": 64,
    "name": "ml.r5.2xlarge",
    "vcpuNum": 8
   },
   {
    "_defaultOrder": 42,
    "_isFastLaunch": false,
    "category": "Memory Optimized",
    "gpuNum": 0,
    "hideHardwareSpecs": false,
    "memoryGiB": 128,
    "name": "ml.r5.4xlarge",
    "vcpuNum": 16
   },
   {
    "_defaultOrder": 43,
    "_isFastLaunch": false,
    "category": "Memory Optimized",
    "gpuNum": 0,
    "hideHardwareSpecs": false,
    "memoryGiB": 256,
    "name": "ml.r5.8xlarge",
    "vcpuNum": 32
   },
   {
    "_defaultOrder": 44,
    "_isFastLaunch": false,
    "category": "Memory Optimized",
    "gpuNum": 0,
    "hideHardwareSpecs": false,
    "memoryGiB": 384,
    "name": "ml.r5.12xlarge",
    "vcpuNum": 48
   },
   {
    "_defaultOrder": 45,
    "_isFastLaunch": false,
    "category": "Memory Optimized",
    "gpuNum": 0,
    "hideHardwareSpecs": false,
    "memoryGiB": 512,
    "name": "ml.r5.16xlarge",
    "vcpuNum": 64
   },
   {
    "_defaultOrder": 46,
    "_isFastLaunch": false,
    "category": "Memory Optimized",
    "gpuNum": 0,
    "hideHardwareSpecs": false,
    "memoryGiB": 768,
    "name": "ml.r5.24xlarge",
    "vcpuNum": 96
   },
   {
    "_defaultOrder": 47,
    "_isFastLaunch": false,
    "category": "Accelerated computing",
    "gpuNum": 1,
    "hideHardwareSpecs": false,
    "memoryGiB": 16,
    "name": "ml.g5.xlarge",
    "vcpuNum": 4
   },
   {
    "_defaultOrder": 48,
    "_isFastLaunch": false,
    "category": "Accelerated computing",
    "gpuNum": 1,
    "hideHardwareSpecs": false,
    "memoryGiB": 32,
    "name": "ml.g5.2xlarge",
    "vcpuNum": 8
   },
   {
    "_defaultOrder": 49,
    "_isFastLaunch": false,
    "category": "Accelerated computing",
    "gpuNum": 1,
    "hideHardwareSpecs": false,
    "memoryGiB": 64,
    "name": "ml.g5.4xlarge",
    "vcpuNum": 16
   },
   {
    "_defaultOrder": 50,
    "_isFastLaunch": false,
    "category": "Accelerated computing",
    "gpuNum": 1,
    "hideHardwareSpecs": false,
    "memoryGiB": 128,
    "name": "ml.g5.8xlarge",
    "vcpuNum": 32
   },
   {
    "_defaultOrder": 51,
    "_isFastLaunch": false,
    "category": "Accelerated computing",
    "gpuNum": 1,
    "hideHardwareSpecs": false,
    "memoryGiB": 256,
    "name": "ml.g5.16xlarge",
    "vcpuNum": 64
   },
   {
    "_defaultOrder": 52,
    "_isFastLaunch": false,
    "category": "Accelerated computing",
    "gpuNum": 4,
    "hideHardwareSpecs": false,
    "memoryGiB": 192,
    "name": "ml.g5.12xlarge",
    "vcpuNum": 48
   },
   {
    "_defaultOrder": 53,
    "_isFastLaunch": false,
    "category": "Accelerated computing",
    "gpuNum": 4,
    "hideHardwareSpecs": false,
    "memoryGiB": 384,
    "name": "ml.g5.24xlarge",
    "vcpuNum": 96
   },
   {
    "_defaultOrder": 54,
    "_isFastLaunch": false,
    "category": "Accelerated computing",
    "gpuNum": 8,
    "hideHardwareSpecs": false,
    "memoryGiB": 768,
    "name": "ml.g5.48xlarge",
    "vcpuNum": 192
   },
   {
    "_defaultOrder": 55,
    "_isFastLaunch": false,
    "category": "Accelerated computing",
    "gpuNum": 8,
    "hideHardwareSpecs": false,
    "memoryGiB": 1152,
    "name": "ml.p4d.24xlarge",
    "vcpuNum": 96
   },
   {
    "_defaultOrder": 56,
    "_isFastLaunch": false,
    "category": "Accelerated computing",
    "gpuNum": 8,
    "hideHardwareSpecs": false,
    "memoryGiB": 1152,
    "name": "ml.p4de.24xlarge",
    "vcpuNum": 96
   },
   {
    "_defaultOrder": 57,
    "_isFastLaunch": false,
    "category": "Accelerated computing",
    "gpuNum": 0,
    "hideHardwareSpecs": false,
    "memoryGiB": 32,
    "name": "ml.trn1.2xlarge",
    "vcpuNum": 8
   },
   {
    "_defaultOrder": 58,
    "_isFastLaunch": false,
    "category": "Accelerated computing",
    "gpuNum": 0,
    "hideHardwareSpecs": false,
    "memoryGiB": 512,
    "name": "ml.trn1.32xlarge",
    "vcpuNum": 128
   },
   {
    "_defaultOrder": 59,
    "_isFastLaunch": false,
    "category": "Accelerated computing",
    "gpuNum": 0,
    "hideHardwareSpecs": false,
    "memoryGiB": 512,
    "name": "ml.trn1n.32xlarge",
    "vcpuNum": 128
   }
  ],
  "instance_type": "ml.t3.2xlarge",
  "kernelspec": {
   "display_name": "Python 3 (Data Science 2.0)",
   "language": "python",
   "name": "python3__SAGEMAKER_INTERNAL__arn:aws:sagemaker:eu-west-2:712779665605:image/sagemaker-data-science-38"
  },
  "language_info": {
   "codemirror_mode": {
    "name": "ipython",
    "version": 3
   },
   "file_extension": ".py",
   "mimetype": "text/x-python",
   "name": "python",
   "nbconvert_exporter": "python",
   "pygments_lexer": "ipython3",
   "version": "3.8.18"
  }
 },
 "nbformat": 4,
 "nbformat_minor": 5
}
